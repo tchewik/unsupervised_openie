{
 "cells": [
  {
   "cell_type": "code",
   "execution_count": 1,
   "metadata": {},
   "outputs": [],
   "source": [
    "import json"
   ]
  },
  {
   "cell_type": "code",
   "execution_count": 2,
   "metadata": {},
   "outputs": [],
   "source": [
    "from tqdm.auto import tqdm"
   ]
  },
  {
   "cell_type": "code",
   "execution_count": 3,
   "metadata": {},
   "outputs": [],
   "source": [
    "DATA_PATH = \"./data/ner_pairs\""
   ]
  },
  {
   "cell_type": "code",
   "execution_count": 4,
   "metadata": {},
   "outputs": [],
   "source": [
    "import os"
   ]
  },
  {
   "cell_type": "code",
   "execution_count": 5,
   "metadata": {},
   "outputs": [],
   "source": [
    "files = os.listdir(DATA_PATH)\n",
    "files.remove(\"readme.txt\")"
   ]
  },
  {
   "cell_type": "code",
   "execution_count": 6,
   "metadata": {},
   "outputs": [],
   "source": [
    "triplet_store = []"
   ]
  },
  {
   "cell_type": "code",
   "execution_count": 7,
   "metadata": {},
   "outputs": [
    {
     "data": {
      "application/vnd.jupyter.widget-view+json": {
       "model_id": "d0b7678886414ffb9a303c63dfdb4f7e",
       "version_major": 2,
       "version_minor": 0
      },
      "text/plain": [
       "HBox(children=(IntProgress(value=0, max=92), HTML(value='')))"
      ]
     },
     "metadata": {},
     "output_type": "display_data"
    },
    {
     "name": "stdout",
     "output_type": "stream",
     "text": [
      "\n"
     ]
    }
   ],
   "source": [
    "for file in tqdm(files):\n",
    "    with open(f\"{DATA_PATH}/{file}\") as f:\n",
    "        obj = json.load(f)\n",
    "        #print(file)\n",
    "        #print(len(obj))\n",
    "        triplets = []\n",
    "        for subobj in obj:\n",
    "            triplets += [subobj[1][i]['openie'] for i in range(len(subobj[1]))]\n",
    "        \n",
    "    for subarray in triplets:\n",
    "        for triplet in subarray:\n",
    "            del triplet['subjectSpan'], triplet['relationSpan'], triplet['objectSpan']\n",
    "            triplet_store.append(triplet)"
   ]
  },
  {
   "cell_type": "code",
   "execution_count": 8,
   "metadata": {},
   "outputs": [],
   "source": [
    "with open(\"./data/triplets.json\", 'w', encoding='utf-8') as f:\n",
    "    json.dump(triplet_store, f)"
   ]
  },
  {
   "cell_type": "code",
   "execution_count": 9,
   "metadata": {},
   "outputs": [
    {
     "name": "stdout",
     "output_type": "stream",
     "text": [
      "Total # of triplets: 75335\n"
     ]
    }
   ],
   "source": [
    "print(f'Total # of triplets: {len(triplet_store)}')"
   ]
  },
  {
   "cell_type": "code",
   "execution_count": 10,
   "metadata": {},
   "outputs": [],
   "source": [
    "uniq_relations = set([obj['relation'] for obj in triplet_store])"
   ]
  },
  {
   "cell_type": "code",
   "execution_count": 11,
   "metadata": {},
   "outputs": [
    {
     "name": "stdout",
     "output_type": "stream",
     "text": [
      "Total # of uniq relations: 26630\n"
     ]
    }
   ],
   "source": [
    "print(f\"Total # of uniq relations: {len(uniq_relations)}\")"
   ]
  },
  {
   "cell_type": "code",
   "execution_count": 12,
   "metadata": {},
   "outputs": [
    {
     "data": {
      "text/plain": [
       "[('is in', 4192),\n",
       " ('is', 2602),\n",
       " ('was', 1815),\n",
       " ('has', 1782),\n",
       " ('is with', 602),\n",
       " ('became', 441),\n",
       " ('announced In', 351),\n",
       " ('released', 327),\n",
       " ('was released in', 267),\n",
       " ('of', 263),\n",
       " ('include', 241),\n",
       " ('was born in', 241),\n",
       " ('had', 230),\n",
       " ('are', 225),\n",
       " ('received', 209),\n",
       " ('using', 199),\n",
       " ('announced', 196),\n",
       " ('used', 193),\n",
       " ('uses', 175),\n",
       " ('introduced', 171),\n",
       " ('launched', 166),\n",
       " ('acquired', 165),\n",
       " ('was founded in', 164),\n",
       " ('became In', 159),\n",
       " ('were', 155),\n",
       " ('moved to', 154),\n",
       " ('included', 153),\n",
       " ('joined', 149),\n",
       " ('be', 135),\n",
       " ('became in', 134),\n",
       " ('left', 134),\n",
       " ('developed', 132),\n",
       " ('announced On', 131),\n",
       " ('founded', 126),\n",
       " ('is In', 126),\n",
       " ('served as', 123),\n",
       " ('created', 118),\n",
       " ('published', 118),\n",
       " ('in', 115),\n",
       " ('began In', 110),\n",
       " ('to', 110),\n",
       " ('released in', 104),\n",
       " ('wrote', 103),\n",
       " ('by', 99),\n",
       " ('supports', 99),\n",
       " ('was awarded', 91),\n",
       " ('was founded by', 90),\n",
       " ('described', 88),\n",
       " ('have', 88),\n",
       " ('was held in', 84),\n",
       " ('reported In', 83),\n",
       " ('sold', 83),\n",
       " ('died in', 82),\n",
       " ('gave', 81),\n",
       " ('told', 80),\n",
       " ('use', 79),\n",
       " ('known as', 79),\n",
       " ('started', 79),\n",
       " ('is based on', 78),\n",
       " ('consists of', 78),\n",
       " ('become', 78),\n",
       " ('includes', 77),\n",
       " ('with', 76),\n",
       " ('attended', 75),\n",
       " ('added', 74),\n",
       " ('was published in', 73),\n",
       " ('began', 70),\n",
       " ('tells', 70),\n",
       " ('offers', 69),\n",
       " ('made', 69),\n",
       " ('was acquired by', 68),\n",
       " ('called', 68),\n",
       " ('was named', 65),\n",
       " ('replaced', 65),\n",
       " ('provides', 65),\n",
       " ('worked as', 65),\n",
       " ('announced in', 64),\n",
       " ('founder of', 63),\n",
       " ('asked', 63),\n",
       " ('won', 62),\n",
       " ('said In', 62),\n",
       " ('founded in', 61),\n",
       " ('started In', 60),\n",
       " ('on', 60),\n",
       " ('took', 59),\n",
       " ('was launched in', 58),\n",
       " ('moved In', 58),\n",
       " ('was released In', 58),\n",
       " ('completed', 58),\n",
       " ('being', 58),\n",
       " ('worked at', 57),\n",
       " ('was released on', 56),\n",
       " ('developed by', 56),\n",
       " ('contains', 55),\n",
       " ('based in', 55),\n",
       " ('stated In', 55),\n",
       " ('was developed by', 55),\n",
       " ('subsidiary of', 55),\n",
       " ('at', 54),\n",
       " ('launched in', 54),\n",
       " ('formed', 54),\n",
       " ('returned to', 53),\n",
       " ('grew up in', 53),\n",
       " ('for', 53),\n",
       " ('added In', 53),\n",
       " ('was introduced in', 53),\n",
       " ('began in', 52),\n",
       " ('used in', 51),\n",
       " ('wrote in', 51),\n",
       " ('met', 50),\n",
       " ('create', 49),\n",
       " ('led', 49),\n",
       " ('was appointed', 49),\n",
       " ('established', 49),\n",
       " ('graduated in', 48),\n",
       " ('sued', 48),\n",
       " ('was in', 48),\n",
       " ('worked with', 47),\n",
       " ('offered', 47),\n",
       " ('CEO of', 47),\n",
       " ('produced', 46),\n",
       " ('appeared in', 46),\n",
       " ('visited', 46),\n",
       " ('used In', 46),\n",
       " ('from', 45),\n",
       " ('developing', 44),\n",
       " ('was sentenced to', 44),\n",
       " ('published in', 44)]"
      ]
     },
     "execution_count": 12,
     "metadata": {},
     "output_type": "execute_result"
    }
   ],
   "source": [
    "from collections import Counter\n",
    "Counter([obj['relation'] for obj in triplet_store]).most_common(128)"
   ]
  },
  {
   "cell_type": "code",
   "execution_count": 13,
   "metadata": {},
   "outputs": [
    {
     "data": {
      "text/plain": [
       "[('him', 528),\n",
       " ('United States', 258),\n",
       " ('her', 240),\n",
       " ('2012', 234),\n",
       " ('2011', 233),\n",
       " ('2007', 227),\n",
       " ('2009', 224),\n",
       " ('2013', 223),\n",
       " ('2010', 211),\n",
       " ('2008', 209),\n",
       " ('2006', 195),\n",
       " ('2005', 192),\n",
       " ('2015', 188),\n",
       " ('2014', 188),\n",
       " ('2016', 174),\n",
       " ('2003', 169),\n",
       " ('CEO', 165),\n",
       " ('model', 162),\n",
       " ('2002', 158),\n",
       " ('Japan', 155),\n",
       " ('China', 149),\n",
       " ('2004', 146),\n",
       " ('time', 137),\n",
       " ('2001', 136),\n",
       " ('2000', 133),\n",
       " ('2017', 133),\n",
       " ('1999', 125),\n",
       " ('1997', 124),\n",
       " ('1998', 123),\n",
       " ('1995', 123),\n",
       " ('Google', 122),\n",
       " ('2018', 121),\n",
       " ('first', 120),\n",
       " ('Europe', 116),\n",
       " ('professor', 109),\n",
       " ('1996', 107),\n",
       " ('his work', 103),\n",
       " ('1991', 101),\n",
       " ('attack', 101),\n",
       " ('London', 100),\n",
       " ('president', 98),\n",
       " ('Germany', 98),\n",
       " ('1994', 95),\n",
       " ('Microsoft', 93),\n",
       " ('director', 87),\n",
       " ('them', 87),\n",
       " ('1992', 86),\n",
       " ('Apple', 85),\n",
       " ('1985', 84),\n",
       " ('Professor', 84),\n",
       " ('1988', 81),\n",
       " ('1990', 76),\n",
       " ('1993', 76),\n",
       " ('present', 75),\n",
       " ('UK', 74),\n",
       " ('author', 74),\n",
       " ('1986', 73),\n",
       " ('US', 73),\n",
       " ('1984', 72),\n",
       " ('India', 69),\n",
       " ('California', 67),\n",
       " ('France', 67),\n",
       " ('1982', 67),\n",
       " ('today', 65),\n",
       " ('Australia', 65),\n",
       " ('1989', 64),\n",
       " ('1979', 64),\n",
       " ('Internet', 63),\n",
       " ('1987', 63),\n",
       " ('1983', 62),\n",
       " ('one', 62),\n",
       " ('New York City', 62),\n",
       " ('1980', 61),\n",
       " ('year', 60),\n",
       " ('war', 59),\n",
       " ('North America', 58),\n",
       " ('Russia', 58),\n",
       " ('New York', 58),\n",
       " ('founder', 57),\n",
       " ('IBM', 54),\n",
       " ('editor', 54),\n",
       " ('2019', 54),\n",
       " ('first time', 54),\n",
       " ('general', 54),\n",
       " ('United Kingdom', 52),\n",
       " ('English', 52),\n",
       " ('U.S.', 52),\n",
       " ('years', 51),\n",
       " ('England', 51),\n",
       " ('Canada', 51),\n",
       " ('Windows', 50),\n",
       " ('attacks', 50),\n",
       " ('his book', 49),\n",
       " ('Director', 49),\n",
       " ('leader', 49),\n",
       " ('1981', 48),\n",
       " ('Earth', 48),\n",
       " ('San Francisco', 47),\n",
       " ('student', 46),\n",
       " ('1973', 45),\n",
       " ('Paris', 45),\n",
       " ('World War II', 44),\n",
       " ('YouTube', 44),\n",
       " ('co-founder', 43),\n",
       " ('developer', 43),\n",
       " ('1972', 43),\n",
       " ('Los Angeles', 43),\n",
       " ('Shirou', 42),\n",
       " ('his PhD', 41),\n",
       " ('April 2011', 41),\n",
       " ('Washington', 41),\n",
       " ('1965', 41),\n",
       " ('President', 41),\n",
       " ('October 2018', 41),\n",
       " ('1976', 40),\n",
       " ('chairman', 39),\n",
       " ('Brazil', 39),\n",
       " ('compiler', 38),\n",
       " ('his career', 38),\n",
       " ('1970', 38),\n",
       " ('first version', 38),\n",
       " ('1969', 38),\n",
       " ('his life', 37),\n",
       " ('creator', 37),\n",
       " ('1968', 36),\n",
       " ('Today', 36),\n",
       " ('September 2016', 36),\n",
       " ('1974', 36)]"
      ]
     },
     "execution_count": 13,
     "metadata": {},
     "output_type": "execute_result"
    }
   ],
   "source": [
    "Counter([obj['object'] for obj in triplet_store]).most_common(128)"
   ]
  },
  {
   "cell_type": "code",
   "execution_count": 14,
   "metadata": {},
   "outputs": [
    {
     "data": {
      "text/plain": [
       "[('he', 4730),\n",
       " ('He', 2854),\n",
       " ('she', 1000),\n",
       " ('She', 695),\n",
       " ('Apple', 599),\n",
       " ('Microsoft', 571),\n",
       " ('Google', 548),\n",
       " ('one', 296),\n",
       " ('Nintendo', 288),\n",
       " ('his', 242),\n",
       " ('IBM', 229),\n",
       " ('Sega', 204),\n",
       " ('Netflix', 198),\n",
       " ('YouTube', 184),\n",
       " ('model', 151),\n",
       " ('him', 145),\n",
       " ('Tencent', 133),\n",
       " ('WikiLeaks', 120),\n",
       " ('Huawei', 116),\n",
       " ('first version', 105),\n",
       " ('China', 102),\n",
       " ('attack', 100),\n",
       " ('MSNBC', 92),\n",
       " ('Samsung', 90),\n",
       " ('Verizon', 88),\n",
       " ('PayPal', 88),\n",
       " ('Assange', 88),\n",
       " ('her', 87),\n",
       " ('United States', 86),\n",
       " ('Intel', 86),\n",
       " ('Cray', 86),\n",
       " ('Shirou', 82),\n",
       " ('Kurzweil', 82),\n",
       " ('Schopenhauer', 82),\n",
       " ('Skype', 80),\n",
       " ('Jesse', 78),\n",
       " ('Cavil', 77),\n",
       " ('FBI', 71),\n",
       " ('first', 70),\n",
       " ('Patricia Churchland', 70),\n",
       " ('NSA', 67),\n",
       " ('Zynga', 66),\n",
       " ('One', 65),\n",
       " ('Firefox', 63),\n",
       " ('two', 61),\n",
       " ('Yahoo', 60),\n",
       " ('Mozilla', 60),\n",
       " ('Spotify', 60),\n",
       " ('Nakamura', 59),\n",
       " ('Descartes', 58),\n",
       " ('Crytek', 56),\n",
       " ('Sony', 55),\n",
       " ('Wang', 55),\n",
       " ('Blazkowicz', 55),\n",
       " ('attacks', 55),\n",
       " ('Stallman', 55),\n",
       " ('Reddit', 53),\n",
       " ('they', 52),\n",
       " ('Sakura', 52),\n",
       " ('AMD', 51),\n",
       " ('Nokia', 51),\n",
       " ('Yahoo!', 51),\n",
       " ('Tigh', 51),\n",
       " ('Brăileanu', 51),\n",
       " ('Pirate Bay', 50),\n",
       " ('Britain', 49),\n",
       " ('Gibson', 48),\n",
       " ('THQ', 47),\n",
       " ('Germany', 47),\n",
       " ('Skinner', 47),\n",
       " ('Hitachi', 47),\n",
       " ('Tectoy', 47),\n",
       " ('Namco', 47),\n",
       " ('processor', 46),\n",
       " ('Oracle', 46),\n",
       " ('developer', 46),\n",
       " ('Romero', 46),\n",
       " ('Jagex', 45),\n",
       " ('Mobike', 45),\n",
       " ('Russia', 44),\n",
       " ('Japan', 43),\n",
       " ('author', 43),\n",
       " ('Manning', 42),\n",
       " ('Appelbaum', 42),\n",
       " ('France', 40),\n",
       " ('Hopper', 40),\n",
       " ('Facebook', 39),\n",
       " ('U.S.', 38),\n",
       " ('Jeong', 38),\n",
       " ('Bornstein', 38),\n",
       " ('CDC', 37),\n",
       " ('Quinn', 37),\n",
       " ('Bates', 37),\n",
       " ('BLM', 37),\n",
       " ('Clinton', 36),\n",
       " ('Konami', 36),\n",
       " ('Clearwire', 36),\n",
       " ('Liu', 35),\n",
       " ('formula _', 35),\n",
       " ('GitHub', 35),\n",
       " ('Bungie', 35),\n",
       " ('Anders', 35),\n",
       " ('Benton', 34),\n",
       " ('operator', 34),\n",
       " ('His', 34),\n",
       " ('LinkedIn', 34),\n",
       " ('UK', 34),\n",
       " ('Galton', 34),\n",
       " ('Cylons', 34),\n",
       " ('Goethe', 34),\n",
       " ('B.J.', 33),\n",
       " ('AT&T', 33),\n",
       " (\"O'Donnell\", 33),\n",
       " ('Folding@home', 33),\n",
       " ('Ireland', 32),\n",
       " ('Plato', 32),\n",
       " ('CIA', 32),\n",
       " ('India', 32),\n",
       " ('Jesus', 32),\n",
       " ('Maskull', 32),\n",
       " ('Lamo', 32),\n",
       " ('IGN', 31),\n",
       " ('Miller', 31),\n",
       " ('Sun', 31),\n",
       " ('Nvidia', 31),\n",
       " ('Thomas', 31),\n",
       " ('Sogou', 31),\n",
       " ('Phoenix', 31)]"
      ]
     },
     "execution_count": 14,
     "metadata": {},
     "output_type": "execute_result"
    }
   ],
   "source": [
    "Counter([obj['subject'] for obj in triplet_store]).most_common(128)"
   ]
  },
  {
   "cell_type": "markdown",
   "metadata": {},
   "source": [
    "## Clearing the things"
   ]
  },
  {
   "cell_type": "code",
   "execution_count": 42,
   "metadata": {},
   "outputs": [],
   "source": [
    "deprecated = set(['one', 'he', 'she', 'they', 'his', 'her', 'its', 'our', 'day', 'co.', 'inc.', \n",
    "              'society', 'people', 'inventor', 'head', 'poet', 'doctor', 'teacher', 'inventor', \n",
    "              'thanksgiving day', 'halloween',\n",
    "              'sales person', 'model', 'board', 'technology', 'owner', 'one', 'two'])"
   ]
  },
  {
   "cell_type": "code",
   "execution_count": 53,
   "metadata": {},
   "outputs": [],
   "source": [
    "filtered_triplets = filter(lambda obj: obj['object'].lower() not in deprecated and obj['subject'].lower() not in deprecated, triplet_store)"
   ]
  },
  {
   "cell_type": "code",
   "execution_count": 54,
   "metadata": {},
   "outputs": [],
   "source": [
    "filtered_triplets = filter(lambda obj: len(obj['object']) > 2 or len(obj['subject']) > 2, filtered_triplets)"
   ]
  },
  {
   "cell_type": "code",
   "execution_count": 55,
   "metadata": {},
   "outputs": [],
   "source": [
    "filtered_triplets = list(filtered_triplets)"
   ]
  },
  {
   "cell_type": "code",
   "execution_count": 56,
   "metadata": {},
   "outputs": [
    {
     "data": {
      "text/plain": [
       "64438"
      ]
     },
     "execution_count": 56,
     "metadata": {},
     "output_type": "execute_result"
    }
   ],
   "source": [
    "len(filtered_triplets)"
   ]
  },
  {
   "cell_type": "markdown",
   "metadata": {},
   "source": [
    "## Organizing the things"
   ]
  },
  {
   "cell_type": "code",
   "execution_count": 67,
   "metadata": {},
   "outputs": [],
   "source": [
    "def examine_relations_with(relation_parts = [('released', 'in'), ('released', 'at')]):\n",
    "    return set([\n",
    "        obj['relation'] for obj in filtered_triplets \n",
    "        if any([\n",
    "            all([part in obj['relation'] for part in part_tuple])\n",
    "            for part_tuple in relation_parts\n",
    "        ])\n",
    "    ])"
   ]
  },
  {
   "cell_type": "code",
   "execution_count": 87,
   "metadata": {},
   "outputs": [],
   "source": [
    "def examine_relations_position(relation_part = 'is', check_start=True):\n",
    "    return set([\n",
    "        obj['relation'] for obj in filtered_triplets\n",
    "        if (obj['relation'].startswith(relation_part) if check_start else obj['relation'].endswith(relation_part))\n",
    "    ])"
   ]
  },
  {
   "cell_type": "code",
   "execution_count": 115,
   "metadata": {},
   "outputs": [
    {
     "data": {
      "text/plain": [
       "[1, 2, 3, 4, 5, 6, 7, 8]"
      ]
     },
     "execution_count": 115,
     "metadata": {},
     "output_type": "execute_result"
    }
   ],
   "source": [
    "list(range(10))[1:-1]"
   ]
  },
  {
   "cell_type": "code",
   "execution_count": 121,
   "metadata": {},
   "outputs": [],
   "source": [
    "def examine_relations_structure(start = \"\", middle = [], end = \"\"):\n",
    "    middle_parts = set([\n",
    "        obj['relation'] for obj in filtered_triplets\n",
    "        if len(obj['relation'].split(' ')) >= 3 and any(mid_part in obj['relation'].split(' ')[1:-1] for mid_part in middle)\n",
    "    ])\n",
    "    return (examine_relations_position(start) & examine_relations_position(end, check_start=False)) & middle_parts"
   ]
  },
  {
   "cell_type": "code",
   "execution_count": 130,
   "metadata": {},
   "outputs": [
    {
     "data": {
      "text/plain": [
       "{'is CEO at',\n",
       " 'is Head at',\n",
       " 'is Professor at',\n",
       " 'is Science at',\n",
       " 'is aimed at',\n",
       " 'is also biologist at',\n",
       " 'is also registered at',\n",
       " 'is artist at',\n",
       " 'is at',\n",
       " 'is available at',\n",
       " 'is based at',\n",
       " 'is biologist at',\n",
       " 'is building at',\n",
       " 'is computational biologist at',\n",
       " 'is disseminated at',\n",
       " 'is executive at',\n",
       " 'is format',\n",
       " 'is fought at',\n",
       " 'is found at',\n",
       " 'is free at',\n",
       " 'is headquartered at',\n",
       " 'is larger at',\n",
       " 'is located at',\n",
       " 'is mathematician at',\n",
       " 'is maximized at',\n",
       " 'is posted at',\n",
       " 'is presenter at',\n",
       " 'is president at',\n",
       " 'is professor at',\n",
       " 'is professor interested at',\n",
       " 'is registered at',\n",
       " 'is represented at',\n",
       " 'is senior executive at',\n",
       " 'is sound artist at',\n",
       " 'is still format',\n",
       " 'is still used format',\n",
       " 'is stored at',\n",
       " 'is sworn in at',\n",
       " 'is talking at',\n",
       " 'is used format',\n",
       " 'is usually talking at',\n",
       " 'is weight at',\n",
       " 'is widely used format',\n",
       " 'issued at'}"
      ]
     },
     "execution_count": 130,
     "metadata": {},
     "output_type": "execute_result"
    }
   ],
   "source": [
    "(examine_relations_position('is') & examine_relations_position('at', check_start=False))"
   ]
  },
  {
   "cell_type": "code",
   "execution_count": 133,
   "metadata": {},
   "outputs": [],
   "source": [
    "relations = {\n",
    "    'released_in': examine_relations_with(relation_parts=[('released', 'in'), ('released', 'at')]),\n",
    "    'founded_in': examine_relations_with(relation_parts=[('founded', 'in'), ('founded', 'at')]),\n",
    "    'who_is': examine_relations_with([('was', 'director', 'of'), ('was', 'director', 'at')]) |\n",
    "              examine_relations_with([('is', 'director')]) |\n",
    "              examine_relations_with([('is', 'employed')]),\n",
    "    'when_was_born': examine_relations_with([('was', 'born', ' in')]),\n",
    "    'where_was_born': examine_relations_with([('was', 'born', 'near'), ('was', 'born', 'at')]),\n",
    "    'where_is_working': examine_relations_structure(\n",
    "        \"is\",\n",
    "        ['CEO', 'director', 'Head', 'professor',\n",
    "         'mathematician', 'senior executive', 'president',\n",
    "         'computational biologist', 'artist'],\n",
    "        'at'\n",
    "    )\n",
    "}"
   ]
  },
  {
   "cell_type": "markdown",
   "metadata": {},
   "source": [
    "## Selecting triplets with specified relations"
   ]
  },
  {
   "cell_type": "code",
   "execution_count": 135,
   "metadata": {},
   "outputs": [],
   "source": [
    "new_triplets = []\n",
    "for relation_type, relation_set in relations.items():\n",
    "    for obj in filtered_triplets:\n",
    "        if obj['relation'] in relation_set:\n",
    "            obj['relation'] = relation_type\n",
    "            new_triplets.append(obj)"
   ]
  },
  {
   "cell_type": "code",
   "execution_count": 146,
   "metadata": {},
   "outputs": [
    {
     "data": {
      "text/plain": [
       "{'subject': 'Dodgeball', 'relation': 'founded_in', 'object': '2003'}"
      ]
     },
     "execution_count": 146,
     "metadata": {},
     "output_type": "execute_result"
    }
   ],
   "source": [
    "new_triplets[800]"
   ]
  },
  {
   "cell_type": "code",
   "execution_count": 137,
   "metadata": {},
   "outputs": [
    {
     "data": {
      "text/plain": [
       "1077"
      ]
     },
     "execution_count": 137,
     "metadata": {},
     "output_type": "execute_result"
    }
   ],
   "source": [
    "len(new_triplets)"
   ]
  },
  {
   "cell_type": "code",
   "execution_count": 138,
   "metadata": {},
   "outputs": [
    {
     "data": {
      "text/plain": [
       "Counter({'released_in': 549,\n",
       "         'founded_in': 274,\n",
       "         'who_is': 12,\n",
       "         'when_was_born': 219,\n",
       "         'where_was_born': 9,\n",
       "         'where_is_working': 14})"
      ]
     },
     "execution_count": 138,
     "metadata": {},
     "output_type": "execute_result"
    }
   ],
   "source": [
    "Counter(obj['relation'] for obj in new_triplets)"
   ]
  },
  {
   "cell_type": "markdown",
   "metadata": {},
   "source": [
    "## Uploading the stuff into Neo4j(because sparql is overkill for our approach)"
   ]
  },
  {
   "cell_type": "code",
   "execution_count": 140,
   "metadata": {},
   "outputs": [],
   "source": [
    "from py2neo import Node, Relationship, Graph"
   ]
  },
  {
   "cell_type": "code",
   "execution_count": 143,
   "metadata": {},
   "outputs": [],
   "source": [
    "from tqdm import tqdm"
   ]
  },
  {
   "cell_type": "code",
   "execution_count": 141,
   "metadata": {},
   "outputs": [],
   "source": [
    "credentials = {\n",
    "    'host': 'github repo is too public to post it',\n",
    "    'username': 'ask in skype',\n",
    "    'password': ':)'\n",
    "}"
   ]
  },
  {
   "cell_type": "code",
   "execution_count": 142,
   "metadata": {},
   "outputs": [],
   "source": [
    "graph: Graph = Graph(credentials['host'], auth=(credentials['username'], credentials['password']))"
   ]
  },
  {
   "cell_type": "code",
   "execution_count": 152,
   "metadata": {},
   "outputs": [],
   "source": [
    "def nuke_database():\n",
    "    graph.run(\"MATCH (n) DETACH DELETE n\")"
   ]
  },
  {
   "cell_type": "code",
   "execution_count": 157,
   "metadata": {},
   "outputs": [],
   "source": [
    "nuke_database()"
   ]
  },
  {
   "cell_type": "code",
   "execution_count": 158,
   "metadata": {},
   "outputs": [
    {
     "name": "stderr",
     "output_type": "stream",
     "text": [
      "100%|██████████| 1077/1077 [00:20<00:00, 52.49it/s]\n"
     ]
    }
   ],
   "source": [
    "subject_mapping = {}\n",
    "for subject in set(obj['subject'] for obj in new_triplets):\n",
    "    subject_mapping[subject] = Node('subject', name=subject)\n",
    "    #graph.create(subject_mapping[subject])\n",
    "    \n",
    "object_mapping = {}\n",
    "for obj in set(obj['object'] for obj in new_triplets):\n",
    "    object_mapping[obj] = Node('object', name=obj)\n",
    "    #graph.create(object_mapping[obj])\n",
    "    \n",
    "for obj in tqdm(new_triplets):\n",
    "    \n",
    "    object_node = object_mapping[obj['object']]\n",
    "    subject_node = subject_mapping[obj['subject']]\n",
    "    #print(object_node)\n",
    "    \n",
    "    relation_type = obj['relation']\n",
    "    relationship = Relationship.type(\"relation\")\n",
    "    rel = relationship(subject_node, object_node, type=relation_type)\n",
    "    \n",
    "    graph.create(rel)"
   ]
  },
  {
   "cell_type": "code",
   "execution_count": 169,
   "metadata": {},
   "outputs": [],
   "source": [
    "def query(subject_name = None, relation_type = None, object_name = None):\n",
    "    \"\"\"\n",
    "    At least two arguments should not be None for adequate amount of results\n",
    "    \"\"\"\n",
    "    query = \"MATCH (s:subject)-[r:relation]->(o:object) [WHERE_CLAUSE]RETURN s.name as subject, r.type as relation, o.name as object\"\n",
    "    \n",
    "    clause = \"WHERE \"\n",
    "    used = False\n",
    "    if subject_name is not None:\n",
    "        clause += f\"s.name = '{subject_name}' \"\n",
    "        used = True\n",
    "    if relation_type is not None:\n",
    "        clause_item = f\"r.type = '{relation_type}' \"\n",
    "        if used:\n",
    "            clause_item = \"AND \" + clause_item\n",
    "            \n",
    "        clause += clause_item\n",
    "        used = True\n",
    "    if object_name is not None:\n",
    "        clause_item += f\"o.name = '{object_name}' \"\n",
    "        if used:\n",
    "            clause_item = \"AND \" + clause_item\n",
    "            \n",
    "        clause += clause_item\n",
    "        used = True\n",
    "        \n",
    "    if used:\n",
    "        query = query.replace(\"[WHERE_CLAUSE]\", clause)\n",
    "    else:\n",
    "        query = query.replace(\"[WHERE_CLAUSE]\", '')\n",
    "        \n",
    "    return graph.run(query).to_table()"
   ]
  },
  {
   "cell_type": "code",
   "execution_count": 170,
   "metadata": {},
   "outputs": [
    {
     "data": {
      "text/html": [
       "<table><tr><th>subject</th><th>relation</th><th>object</th></tr><tr><td style=\"text-align:left\">Galton</td><td style=\"text-align:left\">where_was_born</td><td style=\"text-align:left\">Larches</td></tr></table>"
      ],
      "text/plain": [
       " subject | relation       | object  \n",
       "---------|----------------|---------\n",
       " Galton  | where_was_born | Larches "
      ]
     },
     "execution_count": 170,
     "metadata": {},
     "output_type": "execute_result"
    }
   ],
   "source": [
    "query(subject_name='Galton', relation_type='where_was_born')"
   ]
  },
  {
   "cell_type": "code",
   "execution_count": null,
   "metadata": {},
   "outputs": [],
   "source": []
  }
 ],
 "metadata": {
  "kernelspec": {
   "display_name": "Python 3",
   "language": "python",
   "name": "python3"
  },
  "language_info": {
   "codemirror_mode": {
    "name": "ipython",
    "version": 3
   },
   "file_extension": ".py",
   "mimetype": "text/x-python",
   "name": "python",
   "nbconvert_exporter": "python",
   "pygments_lexer": "ipython3",
   "version": "3.7.3"
  }
 },
 "nbformat": 4,
 "nbformat_minor": 4
}
