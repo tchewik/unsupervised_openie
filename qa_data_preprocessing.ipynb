{
 "cells": [
  {
   "cell_type": "code",
   "execution_count": 1,
   "metadata": {},
   "outputs": [],
   "source": [
    "import json\n",
    "from collections import Counter\n",
    "import pandas as pd"
   ]
  },
  {
   "cell_type": "code",
   "execution_count": 2,
   "metadata": {},
   "outputs": [],
   "source": [
    "from py2neo import Node, Relationship, Graph\n",
    "from tqdm.auto import tqdm"
   ]
  },
  {
   "cell_type": "markdown",
   "metadata": {},
   "source": [
    "## Preconfiguring db access and clearing existing database"
   ]
  },
  {
   "cell_type": "code",
   "execution_count": 3,
   "metadata": {},
   "outputs": [],
   "source": [
    "credentials = {\n",
    "    'host': '####',\n",
    "    'username': '###',\n",
    "    'password': '###'\n",
    "}"
   ]
  },
  {
   "cell_type": "code",
   "execution_count": 4,
   "metadata": {},
   "outputs": [],
   "source": [
    "graph: Graph = Graph(credentials['host'], auth=(credentials['username'], credentials['password']))"
   ]
  },
  {
   "cell_type": "code",
   "execution_count": 5,
   "metadata": {},
   "outputs": [],
   "source": [
    "def nuke_database():\n",
    "    graph.run(\"MATCH (n) DETACH DELETE n\")"
   ]
  },
  {
   "cell_type": "code",
   "execution_count": 6,
   "metadata": {},
   "outputs": [],
   "source": [
    "nuke_database()"
   ]
  },
  {
   "cell_type": "markdown",
   "metadata": {},
   "source": [
    "## Reading clusters and getting rid of unannotated clusters(optional)"
   ]
  },
  {
   "cell_type": "code",
   "execution_count": 7,
   "metadata": {},
   "outputs": [],
   "source": [
    "with open(\"./data/clusters_examples.json\", 'r', encoding='utf-8') as f:\n",
    "    cluster_triplets = json.load(f)\n",
    "    \n",
    "with open(\"./data/clusters_annotation.json\", 'r', encoding='utf-8') as f:\n",
    "    cluster_annot = json.load(f)"
   ]
  },
  {
   "cell_type": "code",
   "execution_count": 8,
   "metadata": {},
   "outputs": [
    {
     "data": {
      "text/plain": [
       "(55, 99)"
      ]
     },
     "execution_count": 8,
     "metadata": {},
     "output_type": "execute_result"
    }
   ],
   "source": [
    "len(cluster_annot.keys()), len(cluster_triplets.keys())"
   ]
  },
  {
   "cell_type": "code",
   "execution_count": 9,
   "metadata": {},
   "outputs": [],
   "source": [
    "common_keys = set(cluster_triplets.keys()).intersection(set(cluster_annot.keys()))"
   ]
  },
  {
   "cell_type": "code",
   "execution_count": 10,
   "metadata": {},
   "outputs": [],
   "source": [
    "#mapping keys from str -> int, then sorting them, then mapping back int -> str\n",
    "common_keys = list(\n",
    "    map(str, sorted(\n",
    "        list(map(int, common_keys))\n",
    "    ))\n",
    ")"
   ]
  },
  {
   "cell_type": "markdown",
   "metadata": {},
   "source": [
    "## Separating mapping into triplets and their predicates"
   ]
  },
  {
   "cell_type": "code",
   "execution_count": 11,
   "metadata": {},
   "outputs": [
    {
     "data": {
      "application/vnd.jupyter.widget-view+json": {
       "model_id": "517742ff5c404d60b43fdab8555c65d1",
       "version_major": 2,
       "version_minor": 0
      },
      "text/plain": [
       "HBox(children=(IntProgress(value=0, max=55), HTML(value='')))"
      ]
     },
     "metadata": {},
     "output_type": "display_data"
    },
    {
     "name": "stdout",
     "output_type": "stream",
     "text": [
      "\n"
     ]
    }
   ],
   "source": [
    "cluster2predicates = {}\n",
    "triplets = []\n",
    "for key in tqdm(common_keys):\n",
    "    \n",
    "    cluster = cluster_triplets[key]\n",
    "    predicates = list(cluster['predicates'].keys())\n",
    "    rel_type = cluster_annot[key]['rel_type']\n",
    "    cluster2predicates[rel_type] = predicates\n",
    "    \n",
    "    for triplet in cluster['data']:\n",
    "        reformatted_triplet = {\n",
    "            'subject': triplet[0], # who/what is acting\n",
    "            'object': triplet[1], # who/what is a target/part of action\n",
    "            'rel_type': rel_type\n",
    "        }\n",
    "        triplets.append(reformatted_triplet)"
   ]
  },
  {
   "cell_type": "code",
   "execution_count": 34,
   "metadata": {},
   "outputs": [],
   "source": [
    "def triplet_representation(triplet):\n",
    "    return f\"({triplet['subject']})-[{triplet['rel_type']}]->({triplet['object']})\" "
   ]
  },
  {
   "cell_type": "markdown",
   "metadata": {},
   "source": [
    "## Some stats"
   ]
  },
  {
   "cell_type": "code",
   "execution_count": 13,
   "metadata": {},
   "outputs": [
    {
     "name": "stdout",
     "output_type": "stream",
     "text": [
      "Total num of triplets: 10899\n"
     ]
    }
   ],
   "source": [
    "print(f\"Total num of triplets: {len(triplets)}\")"
   ]
  },
  {
   "cell_type": "code",
   "execution_count": 14,
   "metadata": {},
   "outputs": [
    {
     "data": {
      "text/plain": [
       "[('(Investigation)-[founder]->(FBI)', 24),\n",
       " ('(Portugal)-[released]->(Russia)', 7),\n",
       " ('(Nadhani)-[developed]->(three years)', 5),\n",
       " ('(Nadhani)-[developed]->(first three years)', 5),\n",
       " ('(SAP)-[released]->(SAP)', 5),\n",
       " ('(WikiLeaks)-[asking]->(Trump Jr.)', 4),\n",
       " ('(Oracle Corporation)-[acquire]->(Sun Microsystems)', 4),\n",
       " ('(Oracle)-[acquire]->(Sun Microsystems)', 4),\n",
       " ('(Sega)-[who_is]->(Japan)', 4),\n",
       " ('(Sundar Pichai)-[ceo_at]->(Google)', 4)]"
      ]
     },
     "execution_count": 14,
     "metadata": {},
     "output_type": "execute_result"
    }
   ],
   "source": [
    "Counter(map(triplet_representation, triplets)).most_common(10)"
   ]
  },
  {
   "cell_type": "code",
   "execution_count": 15,
   "metadata": {},
   "outputs": [
    {
     "name": "stdout",
     "output_type": "stream",
     "text": [
      "Num of uniq triplets: 9943\n"
     ]
    }
   ],
   "source": [
    "print(f\"Num of uniq triplets: {len(set(map(triplet_representation, triplets)))}\")"
   ]
  },
  {
   "cell_type": "markdown",
   "metadata": {},
   "source": [
    "## Removing duplicates"
   ]
  },
  {
   "cell_type": "code",
   "execution_count": 16,
   "metadata": {},
   "outputs": [],
   "source": [
    "triplets = list(\n",
    "    map(json.loads, set( # removing duplicates and mapping back to python dicts\n",
    "        map(json.dumps, triplets)) # mapping into hashable type: str\n",
    "    )\n",
    ")"
   ]
  },
  {
   "cell_type": "markdown",
   "metadata": {},
   "source": [
    "## Inserting into database (in object-relation-object structure)"
   ]
  },
  {
   "cell_type": "code",
   "execution_count": 17,
   "metadata": {},
   "outputs": [
    {
     "data": {
      "application/vnd.jupyter.widget-view+json": {
       "model_id": "8d0e0a69148847d6b4dde514e645fcb7",
       "version_major": 2,
       "version_minor": 0
      },
      "text/plain": [
       "HBox(children=(IntProgress(value=0, max=9943), HTML(value='')))"
      ]
     },
     "metadata": {},
     "output_type": "display_data"
    },
    {
     "name": "stdout",
     "output_type": "stream",
     "text": [
      "\n"
     ]
    }
   ],
   "source": [
    "object_mapping = {}\n",
    "\n",
    "for subject in set(obj['subject'] for obj in triplets):\n",
    "    object_mapping[subject] = Node('object', name=subject)\n",
    "    #graph.create(subject_mapping[subject])\n",
    "    \n",
    "for obj in set(obj['object'] for obj in triplets):\n",
    "    if obj not in object_mapping.keys():\n",
    "        object_mapping[obj] = Node('object', name=obj)\n",
    "    #graph.create(object_mapping[obj])\n",
    "    \n",
    "for obj in tqdm(triplets):\n",
    "    \n",
    "    object_node = object_mapping[obj['object']]\n",
    "    subject_node = object_mapping[obj['subject']]\n",
    "    #print(object_node)\n",
    "    \n",
    "    relation_type = obj['rel_type']\n",
    "    relationship = Relationship.type(\"predicate\")\n",
    "    rel = relationship(subject_node, object_node, type=relation_type)\n",
    "    \n",
    "    graph.create(rel)"
   ]
  },
  {
   "cell_type": "markdown",
   "metadata": {},
   "source": [
    "## That is how to perform queries"
   ]
  },
  {
   "cell_type": "code",
   "execution_count": 38,
   "metadata": {},
   "outputs": [],
   "source": [
    "def query(subject_name = None, relation_type = None, object_name = None, verbose=False):\n",
    "    \"\"\"\n",
    "    At least two arguments should not be None for adequate amount of results\n",
    "    \"\"\"\n",
    "    query = \"MATCH (s:object)-[r:predicate]->(o:object) [WHERE_CLAUSE]RETURN s.name as subject, r.type as rel_type, o.name as object\"\n",
    "    \n",
    "    clause = \"WHERE \"\n",
    "    used = False\n",
    "    if subject_name is not None:\n",
    "        clause += f\"s.name = '{subject_name}' \"\n",
    "        used = True\n",
    "    if relation_type is not None:\n",
    "        clause_item = f\"r.type = '{relation_type}' \"\n",
    "        if used:\n",
    "            clause_item = \"AND \" + clause_item\n",
    "            \n",
    "        clause += clause_item\n",
    "        used = True\n",
    "    if object_name is not None:\n",
    "        clause_item = f\"o.name = '{object_name}' \"\n",
    "        if used:\n",
    "            clause_item = \"AND \" + clause_item\n",
    "            \n",
    "        clause += clause_item\n",
    "        used = True\n",
    "        \n",
    "    if used:\n",
    "        query = query.replace(\"[WHERE_CLAUSE]\", clause)\n",
    "    else:\n",
    "        query = query.replace(\"[WHERE_CLAUSE]\", '')\n",
    "        \n",
    "    if verbose:\n",
    "        print(query)\n",
    "        \n",
    "    return list(map(triplet_representation, graph.run(query).to_data_frame().to_dict(orient='records')))"
   ]
  },
  {
   "cell_type": "code",
   "execution_count": 72,
   "metadata": {},
   "outputs": [
    {
     "data": {
      "text/plain": [
       "['CEO of',\n",
       " 'is CEO of',\n",
       " \"'s CEO is\",\n",
       " 'was CEO of',\n",
       " 'was',\n",
       " 'CEO at',\n",
       " 'then-CEO of',\n",
       " 'new CEO of',\n",
       " 'CEO in',\n",
       " 'inventor of',\n",
       " 'is CEO at',\n",
       " 'sent back',\n",
       " 'CEOs of',\n",
       " 'was CEO until',\n",
       " 'be CEO at',\n",
       " 'is',\n",
       " 'was CEO From',\n",
       " 'CEO until',\n",
       " 'was announced On']"
      ]
     },
     "execution_count": 72,
     "metadata": {},
     "output_type": "execute_result"
    }
   ],
   "source": [
    "cluster2predicates['ceo_at']"
   ]
  },
  {
   "cell_type": "code",
   "execution_count": 74,
   "metadata": {},
   "outputs": [
    {
     "data": {
      "text/plain": [
       "['replaced',\n",
       " 'president of',\n",
       " 'was appointed',\n",
       " 'chairman of',\n",
       " 'President of',\n",
       " 'son of',\n",
       " 'was president of',\n",
       " 'was replaced by',\n",
       " 'is son of',\n",
       " 'was appointed as',\n",
       " 'replacing',\n",
       " 'was appointed in',\n",
       " 'was appointed In',\n",
       " 'president at',\n",
       " 'was replaced In',\n",
       " 'was appointed by',\n",
       " \"'s president is\",\n",
       " 'proved In',\n",
       " 'appointed',\n",
       " 'was president for',\n",
       " 'was appointed at_time',\n",
       " \"'s President is\",\n",
       " 'president from',\n",
       " \"'s son is\",\n",
       " 'President at',\n",
       " 'be replaced by',\n",
       " 'replaced Phillips as',\n",
       " 'of chairman is',\n",
       " 'being replaced by',\n",
       " 'was appointed at',\n",
       " 'vice-president of',\n",
       " 'was',\n",
       " 'been appointed',\n",
       " 'unanimously appointed as',\n",
       " 'was replaced on',\n",
       " 'proved in',\n",
       " 'replaced Irimajiri as',\n",
       " 'has replaced',\n",
       " 'appointed as',\n",
       " 'was Chairman of',\n",
       " 'Chairman of',\n",
       " 'be replaced',\n",
       " 'rotundity of',\n",
       " 'was replaced as',\n",
       " 'since President is',\n",
       " 'is chairman of',\n",
       " 'agreed On',\n",
       " 'was appointed On',\n",
       " 'replaced Yang as',\n",
       " 'replaced President with',\n",
       " 'were replaced by',\n",
       " 'was son of',\n",
       " 'be replaced in',\n",
       " 'is with',\n",
       " 'vice-president at',\n",
       " 'from president is',\n",
       " 'resume',\n",
       " 'replacing NTSC in',\n",
       " 'proved result In',\n",
       " 'is president at',\n",
       " 'was chairman from',\n",
       " 'was chairman of',\n",
       " 'replaced Urobuchi as',\n",
       " 'is replacing',\n",
       " 'of President is',\n",
       " 'could lecture in',\n",
       " 'was President of',\n",
       " 'been appointed in',\n",
       " 'has',\n",
       " 'is',\n",
       " 'was appointed to',\n",
       " 'President within',\n",
       " 'replaced model In',\n",
       " 'agreed',\n",
       " 'prominent defenders',\n",
       " 'was replaced with',\n",
       " 'and-president for',\n",
       " 'replacing PAL-M in',\n",
       " 'chairman at',\n",
       " 'replacing PAL-N in',\n",
       " 'was replaced in',\n",
       " 'successfully replaced',\n",
       " 'replaced Yang in',\n",
       " 'replaced Talkback as',\n",
       " 'replaced SCSSI on',\n",
       " 'and-president of',\n",
       " 'at president is',\n",
       " 'was replaced at',\n",
       " 'vice-president for',\n",
       " 'Vice-President of',\n",
       " 'replaced Xiaoyou with',\n",
       " 'retiring in',\n",
       " 'replaced Eisner at',\n",
       " 'is president of',\n",
       " 'replaced Wong in',\n",
       " 'be',\n",
       " 'chairmen of',\n",
       " 'replaced Eisner In',\n",
       " 'replaced Irimajiri In',\n",
       " 'is appointed by',\n",
       " 'president since',\n",
       " 'of son is',\n",
       " 'was chairman during',\n",
       " 'replaced Tedder On',\n",
       " 'replaced President In',\n",
       " 'president for',\n",
       " 'next President of',\n",
       " 'as years is',\n",
       " 'being appointed',\n",
       " 'is Chairman of',\n",
       " 'replaced Wong as',\n",
       " \"' son is\",\n",
       " 'was president in',\n",
       " 'Chairman at',\n",
       " 'president in',\n",
       " 'chairman for',\n",
       " 'effectively replaced',\n",
       " 'replaced Tedder as',\n",
       " 'is appointed Following']"
      ]
     },
     "execution_count": 74,
     "metadata": {},
     "output_type": "execute_result"
    }
   ],
   "source": [
    "cluster2predicates['heads']"
   ]
  },
  {
   "cell_type": "code",
   "execution_count": 55,
   "metadata": {},
   "outputs": [
    {
     "data": {
      "text/plain": [
       "['(Microsoft)-[released]->(Zune)',\n",
       " '(Microsoft)-[collaborate]->(1994)',\n",
       " '(Microsoft)-[announced]->(18 January 2017)',\n",
       " '(Microsoft)-[launch]->(November 2015)',\n",
       " '(Microsoft)-[used_in]->(Messenger)',\n",
       " '(Microsoft)-[start_in]->(Windows Vista)',\n",
       " '(Microsoft)-[announced]->(19 July 2012)',\n",
       " '(Microsoft)-[announced]->(August 2015)',\n",
       " '(Microsoft)-[acquire]->(Acompli)',\n",
       " '(Microsoft)-[sued]->(1998)',\n",
       " '(Microsoft)-[who_is]->(February 2009)',\n",
       " '(Microsoft)-[announced]->(July 2009)',\n",
       " '(Microsoft)-[announced]->(May 2017)',\n",
       " '(Microsoft)-[announced]->(April 2015)',\n",
       " '(Microsoft)-[announced]->(May 12)',\n",
       " '(Microsoft)-[announced]->(July 2015)',\n",
       " '(Microsoft)-[acquire]->(May 2009)',\n",
       " '(Microsoft)-[announced]->(September 30)',\n",
       " '(Microsoft)-[released]->(year prior)',\n",
       " '(Microsoft)-[announced]->(11 November 2014)',\n",
       " '(Microsoft)-[introducing]->(late 1988)',\n",
       " '(Microsoft)-[purchased]->(Funk)',\n",
       " '(Microsoft)-[launch]->(Windows Phone Community)',\n",
       " '(Microsoft)-[developed]->(1996)',\n",
       " '(Microsoft)-[announced]->(March 2008)',\n",
       " '(Microsoft)-[announced]->(March 2009)',\n",
       " '(Microsoft)-[announced]->(20 June 2014)',\n",
       " '(Microsoft)-[present]->(XNA Framework)',\n",
       " '(Microsoft)-[released]->(Windows XP)',\n",
       " '(Microsoft)-[announced]->(30 March 2006)',\n",
       " '(Microsoft)-[acquire]->(Perlman)',\n",
       " '(Microsoft)-[announced]->(September 2018)',\n",
       " '(Microsoft)-[released]->(Metro)',\n",
       " '(Microsoft)-[released]->(Windows 1.0)',\n",
       " '(Microsoft)-[released]->(Windows Thin PC)',\n",
       " '(Microsoft)-[announced]->(November 2010)',\n",
       " '(Microsoft)-[announced]->(January 2010)',\n",
       " '(Microsoft)-[announced]->(December 2013)',\n",
       " '(Microsoft)-[announced]->(March 2016)',\n",
       " '(Microsoft)-[announced]->(10 May 2011)',\n",
       " '(Microsoft)-[announced]->(September 2015)',\n",
       " '(Microsoft)-[acquire]->(2008)',\n",
       " '(Microsoft)-[support]->(Explorer)',\n",
       " '(Microsoft)-[sold]->(2015)',\n",
       " '(Microsoft)-[announced]->(February 2019)',\n",
       " '(Microsoft)-[launch]->(July 22)',\n",
       " '(Microsoft)-[released]->(same year)',\n",
       " '(Microsoft)-[sued]->(www.msn.com)',\n",
       " '(Microsoft)-[launch]->(Games)',\n",
       " '(Microsoft)-[acquire]->(November 2006)',\n",
       " '(Microsoft)-[released]->(year)',\n",
       " '(Microsoft)-[released]->(Windows 98)',\n",
       " '(Microsoft)-[announced]->(6 July 2006)',\n",
       " '(Microsoft)-[developed]->(Wayport)',\n",
       " '(Microsoft)-[acquire]->(GitHub)',\n",
       " '(Microsoft)-[launch]->(Demand)',\n",
       " '(Microsoft)-[announced]->(October 2015)',\n",
       " '(Microsoft)-[collaborate]->(Windows NT port)',\n",
       " '(Microsoft)-[acquire]->(Bungie)',\n",
       " '(Microsoft)-[purchased]->(2011)',\n",
       " '(Microsoft)-[developed]->(Australia)',\n",
       " '(Microsoft)-[released]->(October 2021)',\n",
       " '(Microsoft)-[acquire]->(December 2016)',\n",
       " '(Microsoft)-[released]->(September 2000)',\n",
       " '(Microsoft)-[sold]->(Cashback)',\n",
       " '(Microsoft)-[released]->(25 January 2011)',\n",
       " '(Microsoft)-[released]->(Windows Server)',\n",
       " '(Microsoft)-[released]->(Windows 3.11)',\n",
       " '(Microsoft)-[who_is]->(2013)',\n",
       " '(Microsoft)-[announced]->(October 2018)',\n",
       " '(Microsoft)-[launch]->(Nokia)',\n",
       " '(Microsoft)-[released]->(July 2005)',\n",
       " '(Microsoft)-[released]->(August 2004)',\n",
       " '(Microsoft)-[purchased]->(aQuantive)',\n",
       " '(Microsoft)-[released]->(Windows 3.1)',\n",
       " '(Microsoft)-[announced]->(2003)',\n",
       " '(Microsoft)-[announced]->(March 7)',\n",
       " '(Microsoft)-[announced]->(May 1996)',\n",
       " '(Microsoft)-[released]->(United States)',\n",
       " '(Microsoft)-[launch]->(31st)',\n",
       " '(Microsoft)-[announced]->(September 2017)',\n",
       " '(Microsoft)-[used_in]->(Outlook.com)',\n",
       " '(Microsoft)-[announced]->(June 2013)',\n",
       " '(Microsoft)-[developed]->(Microsoft Fortran)',\n",
       " '(Microsoft)-[released]->(Office Communicator)',\n",
       " '(Microsoft)-[announced]->(11 August 2003)',\n",
       " '(Microsoft)-[released]->(August 2006)',\n",
       " '(Microsoft)-[acquire]->(2014)',\n",
       " '(Microsoft)-[developed]->(Windows NT)',\n",
       " '(Microsoft)-[announced]->(September 2016)',\n",
       " '(Microsoft)-[released]->(2004)',\n",
       " '(Microsoft)-[left]->(October 2003)',\n",
       " '(Microsoft)-[who_is]->(FBI)',\n",
       " '(Microsoft)-[released]->(2002)',\n",
       " '(Microsoft)-[support]->(Windows 7)',\n",
       " '(Microsoft)-[left]->(March 2003)',\n",
       " '(Microsoft)-[developed]->(Virtual File System)',\n",
       " '(Microsoft)-[who_is]->(October 2017)',\n",
       " '(Microsoft)-[released]->(Twitter)',\n",
       " '(Microsoft)-[announced]->(September 11)',\n",
       " '(Microsoft)-[bought_at]->(February 1995)',\n",
       " '(Microsoft)-[who_is]->(Apple Computer)',\n",
       " '(Microsoft)-[announced]->(January 2016)',\n",
       " '(Microsoft)-[released]->(Windows 10)',\n",
       " '(Microsoft)-[join]->(scientist)',\n",
       " '(Microsoft)-[released]->(Windows Server 2003)',\n",
       " '(Microsoft)-[released]->(Windows NT 4.0)',\n",
       " '(Microsoft)-[released]->(Sedna)',\n",
       " '(Microsoft)-[released]->(Absoft)',\n",
       " '(Microsoft)-[announced]->(August 31)',\n",
       " '(Microsoft)-[used_in]->(years)',\n",
       " '(Microsoft)-[acquire]->(September 2002)',\n",
       " '(Microsoft)-[used_in]->(Bing)',\n",
       " '(Microsoft)-[acquire]->(2007)',\n",
       " '(Microsoft)-[writing]->(30 November 2015)',\n",
       " '(Microsoft)-[publishing]->(May 2004)',\n",
       " '(Microsoft)-[developed]->(Windows)',\n",
       " '(Microsoft)-[who_is]->(18th)',\n",
       " '(Microsoft)-[released]->(1995)',\n",
       " '(Microsoft)-[announced]->(March 1997)',\n",
       " '(Microsoft)-[released]->(msnbc.com)',\n",
       " '(Microsoft)-[announced]->(July 2010)',\n",
       " '(Microsoft)-[developed]->(November 2013)',\n",
       " '(Microsoft)-[acquire]->(Talko)',\n",
       " '(Microsoft)-[announced]->(January 2015)',\n",
       " '(Microsoft)-[membership]->(ATL)',\n",
       " '(Microsoft)-[released]->(Office Communicator 2007)',\n",
       " '(Microsoft)-[acquire]->(Farecast.com)',\n",
       " '(Microsoft)-[introducing]->(Windows 95)',\n",
       " '(Microsoft)-[sold]->(LINE Corporation)',\n",
       " '(Microsoft)-[released]->(Internet Explorer 6.0)',\n",
       " '(Microsoft)-[released]->(July 1996)',\n",
       " '(Microsoft)-[announced]->(June 2015)',\n",
       " '(Microsoft)-[released]->(Windows NT 3.1)',\n",
       " '(Microsoft)-[announced]->(October 2008)',\n",
       " '(Microsoft)-[based]->(Windows Runtime)',\n",
       " '(Microsoft)-[announced]->(March 9)',\n",
       " '(Microsoft)-[acquire]->(2000)',\n",
       " '(Microsoft)-[launch]->(Skype)',\n",
       " '(Microsoft)-[announced]->(April 2009)',\n",
       " '(Microsoft)-[support]->(Windows Media Player)',\n",
       " '(Microsoft)-[acquire]->(WebTV)',\n",
       " '(Microsoft)-[left]->(CTP)',\n",
       " '(Microsoft)-[join]->(Microsoft)']"
      ]
     },
     "execution_count": 55,
     "metadata": {},
     "output_type": "execute_result"
    }
   ],
   "source": [
    "query(subject_name='Microsoft')"
   ]
  },
  {
   "cell_type": "code",
   "execution_count": 56,
   "metadata": {},
   "outputs": [],
   "source": [
    "relations_str = json.dumps(cluster2predicates)"
   ]
  },
  {
   "cell_type": "markdown",
   "metadata": {},
   "source": [
    "## Writing stuff for api"
   ]
  },
  {
   "cell_type": "code",
   "execution_count": 57,
   "metadata": {},
   "outputs": [
    {
     "name": "stdout",
     "output_type": "stream",
     "text": [
      "Overwriting qa_service.py\n"
     ]
    }
   ],
   "source": [
    "%%writefile qa_service.py\n",
    "\n",
    "from bentoml import BentoService, api, env, artifacts\n",
    "from bentoml.artifact import TextFileArtifact\n",
    "from bentoml.handlers import JsonHandler\n",
    "\n",
    "import flair\n",
    "from flair.data import Sentence\n",
    "from flair.models import SequenceTagger\n",
    "\n",
    "from py2neo import Graph\n",
    "\n",
    "import json\n",
    "\n",
    "import pandas as pd\n",
    "\n",
    "@env(pip_dependencies=['flair', 'torch', 'pandas', 'py2neo', 'numpy'])\n",
    "@artifacts([TextFileArtifact('relations')])\n",
    "class QAService(BentoService):\n",
    "    \n",
    "    def get_entities(self, the_question, model):\n",
    "        the_sentenced_question = Sentence(the_question)\n",
    "        model.predict(the_sentenced_question)\n",
    "        spans = [span for span in the_sentenced_question.get_spans('ner') if span.tag == \"PER\" or span.tag == \"MISC\" or span.tag == 'LOC']\n",
    "        entities = [\" \".join([tok.text for tok in span.tokens]) for span in spans]\n",
    "        return entities\n",
    "    \n",
    "    def query(self, graph, subject_name = None, relation_type = None, object_name = None):\n",
    "        \"\"\"\n",
    "        At least two arguments should not be None for adequate amount of results\n",
    "        \"\"\"\n",
    "        query = \"MATCH (s:object)-[r:predicate]->(o:object) [WHERE_CLAUSE]RETURN s.name as subject, r.type as relation, o.name as object\"\n",
    "\n",
    "        clause = \"WHERE \"\n",
    "        used = False\n",
    "        if subject_name is not None:\n",
    "            clause += f\"s.name = '{subject_name}' \"\n",
    "            used = True\n",
    "        if relation_type is not None:\n",
    "            clause_item = f\"r.type = '{relation_type}' \"\n",
    "            if used:\n",
    "                clause_item = \"AND \" + clause_item\n",
    "\n",
    "            clause += clause_item\n",
    "            used = True\n",
    "        if object_name is not None:\n",
    "            clause_item = f\"o.name = '{object_name}' \"\n",
    "            if used:\n",
    "                clause_item = \"AND \" + clause_item\n",
    "\n",
    "            clause += clause_item\n",
    "            used = True\n",
    "\n",
    "        if used:\n",
    "            query = query.replace(\"[WHERE_CLAUSE]\", clause)\n",
    "        else:\n",
    "            query = query.replace(\"[WHERE_CLAUSE]\", '')\n",
    "\n",
    "        return graph.run(query).to_data_frame()\n",
    "    \n",
    "    def execute_question(self, question, ner_model, relations, graph):\n",
    "        ##--stage 1: detect entities--##\n",
    "        entities = self.get_entities(question, model=ner_model)\n",
    "\n",
    "        true_relation_types = []\n",
    "        ##--stage 2: detect relations--##\n",
    "        for candidate_relation_type, candidate_relations_set in relations.items():\n",
    "            if any(relation in question for relation in candidate_relations_set):\n",
    "                true_relation_types.append(candidate_relation_type)\n",
    "\n",
    "        ##--stage 3: executing queries--##\n",
    "        dfs = []\n",
    "        for entity in entities:\n",
    "            for rel_type in true_relation_types:\n",
    "                dfs.append(self.query(graph, subject_name=entity, relation_type=rel_type))\n",
    "                dfs.append(self.query(graph, object_name=entity, relation_type=true_relation_type))\n",
    "\n",
    "        return pd.concat(dfs, axis=0) if len(dfs) > 0 else []\n",
    "\n",
    "    @api(JsonHandler)\n",
    "    def predict(self, input_dict):\n",
    "        \n",
    "        credentials = {\n",
    "            'host': '####',\n",
    "            'username': '####',\n",
    "            'password': '####'\n",
    "        }\n",
    "        \n",
    "        ner = SequenceTagger.load('ner')\n",
    "        relations = json.loads(self.artifacts.relations)\n",
    "        graph = Graph(credentials['host'], auth=(credentials['username'], credentials['password']))\n",
    "        question = input_dict['question']\n",
    "        \n",
    "        dataframe = self.execute_question(question, ner, relations, graph)\n",
    "        return dataframe.to_json(orient='records') if len(dataframe) != 0 else []\n",
    "        \n",
    "        "
   ]
  },
  {
   "cell_type": "code",
   "execution_count": 58,
   "metadata": {},
   "outputs": [],
   "source": [
    "from qa_service import QAService"
   ]
  },
  {
   "cell_type": "code",
   "execution_count": 59,
   "metadata": {},
   "outputs": [],
   "source": [
    "qa = QAService.pack(relations=relations_str)"
   ]
  },
  {
   "cell_type": "code",
   "execution_count": 73,
   "metadata": {},
   "outputs": [
    {
     "name": "stdout",
     "output_type": "stream",
     "text": [
      "2019-10-13 15:50:13,264 loading file /root/.flair/models/en-ner-conll03-v0.4.pt\n"
     ]
    },
    {
     "data": {
      "text/plain": [
       "'[{\"object\":\"Larry Page\",\"relation\":\"heads\",\"subject\":\"Sundar Pichai\"},{\"object\":\"CEO\",\"relation\":\"heads\",\"subject\":\"Sundar Pichai\"}]'"
      ]
     },
     "execution_count": 73,
     "metadata": {},
     "output_type": "execute_result"
    }
   ],
   "source": [
    "qa.predict({'question': \"Where Sundar Pichai is CEO at ?\"})"
   ]
  },
  {
   "cell_type": "code",
   "execution_count": null,
   "metadata": {},
   "outputs": [],
   "source": []
  }
 ],
 "metadata": {
  "kernelspec": {
   "display_name": "Python 3",
   "language": "python",
   "name": "python3"
  },
  "language_info": {
   "codemirror_mode": {
    "name": "ipython",
    "version": 3
   },
   "file_extension": ".py",
   "mimetype": "text/x-python",
   "name": "python",
   "nbconvert_exporter": "python",
   "pygments_lexer": "ipython3",
   "version": "3.7.3"
  }
 },
 "nbformat": 4,
 "nbformat_minor": 4
}
