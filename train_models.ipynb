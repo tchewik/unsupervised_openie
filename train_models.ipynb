{
 "cells": [
  {
   "cell_type": "markdown",
   "metadata": {},
   "source": [
    "# Initialization"
   ]
  },
  {
   "cell_type": "code",
   "execution_count": 1,
   "metadata": {},
   "outputs": [],
   "source": [
    "%load_ext autoreload\n",
    "%autoreload 2\n",
    "\n",
    "import os\n",
    "os.environ['CUDA_VISIBLE_DEVICES'] = '0'\n",
    "\n",
    "import sys\n",
    "sys.path.append('./pylingtools/src/')\n",
    "sys.path.append('./pyexling/src/')\n",
    "sys.path.append('./syntaxnet_wrapper/src/')"
   ]
  },
  {
   "cell_type": "code",
   "execution_count": 2,
   "metadata": {},
   "outputs": [
    {
     "data": {
      "text/plain": [
       "['/device:GPU:0']"
      ]
     },
     "execution_count": 2,
     "metadata": {},
     "output_type": "execute_result"
    }
   ],
   "source": [
    "from tensorflow.python.client import device_lib\n",
    "\n",
    "def get_available_gpus():\n",
    "    local_device_protos = device_lib.list_local_devices()\n",
    "    return [x.name for x in local_device_protos if x.device_type == 'GPU']\n",
    "\n",
    "get_available_gpus()"
   ]
  },
  {
   "cell_type": "code",
   "execution_count": 3,
   "metadata": {},
   "outputs": [],
   "source": [
    "import tensorflow as tf\n",
    "\n",
    "config = tf.ConfigProto()\n",
    "config.gpu_options.allow_growth=True\n",
    "sess = tf.Session(config=config)\n",
    "\n",
    "from tensorflow.python.keras import backend as K\n",
    "K.set_session(sess)"
   ]
  },
  {
   "cell_type": "code",
   "execution_count": 4,
   "metadata": {},
   "outputs": [
    {
     "name": "stdout",
     "output_type": "stream",
     "text": [
      "mkdir: cannot create directory ‘../logs/’: File exists\r\n"
     ]
    }
   ],
   "source": [
    "import logging\n",
    "\n",
    "logPath = '../logs/'\n",
    "! mkdir $logPath\n",
    "fileName = 'main.log'\n",
    "logFormatter = logging.Formatter(\"%(asctime)s [%(threadName)-12.12s] [%(levelname)-5.5s]  %(message)s\")\n",
    "\n",
    "logger = logging.getLogger()\n",
    "if logger.hasHandlers():\n",
    "    logger.handlers.clear()\n",
    "\n",
    "fileHandler = logging.FileHandler(os.path.join(logPath, fileName))\n",
    "fileHandler.setFormatter(logFormatter)\n",
    "logger.addHandler(fileHandler)\n",
    "\n",
    "consoleHandler = logging.StreamHandler()\n",
    "consoleHandler.setFormatter(logFormatter)\n",
    "logger.addHandler(consoleHandler)\n",
    "\n",
    "logger.setLevel(logging.INFO)"
   ]
  },
  {
   "cell_type": "code",
   "execution_count": 5,
   "metadata": {},
   "outputs": [],
   "source": [
    "import sklearn\n",
    "import numpy as np\n",
    "import pandas as pd\n",
    "import json\n",
    "import pickle\n",
    "from tqdm import tqdm_notebook as tqdm\n",
    "from joblib import Parallel, delayed"
   ]
  },
  {
   "cell_type": "markdown",
   "metadata": {},
   "source": [
    "# Load data"
   ]
  },
  {
   "cell_type": "code",
   "execution_count": 6,
   "metadata": {},
   "outputs": [],
   "source": [
    "data = pd.read_pickle('data/dataset.pkl')"
   ]
  },
  {
   "cell_type": "code",
   "execution_count": 7,
   "metadata": {},
   "outputs": [
    {
     "data": {
      "text/plain": [
       "(48983, 586)"
      ]
     },
     "execution_count": 7,
     "metadata": {},
     "output_type": "execute_result"
    }
   ],
   "source": [
    "data.shape"
   ]
  },
  {
   "cell_type": "code",
   "execution_count": 8,
   "metadata": {},
   "outputs": [],
   "source": [
    "vectorizer_rel = pickle.load(open('models/relation_vectorizer.pkl', 'rb'))\n",
    "bow_rel = vectorizer_rel.transform(data['relation'].values).toarray()\n",
    "columns = [column + '_bow_rel' for column in vectorizer_rel.get_feature_names()]\n",
    "features = pd.concat([data.reset_index(drop=True), pd.DataFrame(bow_rel, columns=columns)], axis=1)\n",
    "\n",
    "vectorizer_path = pickle.load(open('models/path_vectorizer.pkl', 'rb'))\n",
    "bow_path = vectorizer_path.transform(features['dep_path'].values).toarray()\n",
    "columns = [column + '_bow_path' for column in vectorizer_path.get_feature_names()]\n",
    "features = pd.concat([features.reset_index(drop=True), pd.DataFrame(bow_path, columns=columns)], axis=1)\n",
    "\n",
    "del data"
   ]
  },
  {
   "cell_type": "code",
   "execution_count": 9,
   "metadata": {
    "scrolled": true
   },
   "outputs": [
    {
     "data": {
      "text/plain": [
       "(48983, 2586)"
      ]
     },
     "execution_count": 9,
     "metadata": {},
     "output_type": "execute_result"
    }
   ],
   "source": [
    "features.shape"
   ]
  },
  {
   "cell_type": "code",
   "execution_count": 10,
   "metadata": {},
   "outputs": [],
   "source": [
    "excluding_cols = ['docid', 'subject', 'relation', 'object', 'dep_path', 'lemma_subj', 'lemma_rel', 'lemma_obj']\n",
    "embedding_cols = ['w2v_subj', 'w2v_rel', 'w2v_obj']\n",
    "w2v_subj = features['w2v_subj']\n",
    "w2v_rel = features['w2v_rel']\n",
    "w2v_obj = features['w2v_obj']\n",
    "x_train = features.drop(columns=excluding_cols+embedding_cols)"
   ]
  },
  {
   "cell_type": "markdown",
   "metadata": {},
   "source": [
    "# Models"
   ]
  },
  {
   "cell_type": "code",
   "execution_count": 11,
   "metadata": {},
   "outputs": [],
   "source": [
    "%load_ext cython\n",
    "\n",
    "from tensorflow.python.keras.models import Sequential, Model\n",
    "from tensorflow.python.keras.layers import LSTM, GRU, Dense\n",
    "from tensorflow.python.keras.layers import Conv1D, Conv2D, MaxPooling1D, MaxPooling2D, Conv2DTranspose\n",
    "from tensorflow.python.keras.layers import Dropout, UpSampling2D\n",
    "from tensorflow.python.keras.layers import Concatenate\n",
    "from tensorflow.python.keras.layers import Masking\n",
    "from tensorflow.python.keras.layers import Reshape\n",
    "from tensorflow.python.keras.layers import Flatten\n",
    "from tensorflow.python.keras.layers import Input, Layer\n",
    "from tensorflow.python.keras.layers import Lambda\n",
    "from tensorflow.python.keras.layers import GlobalMaxPooling1D\n",
    "from tensorflow.python.keras.layers import RepeatVector\n",
    "from tensorflow.python.keras.layers import Activation\n",
    "from tensorflow.python.keras.layers import Permute, Add\n",
    "from tensorflow.python.keras.preprocessing import sequence\n",
    "from tensorflow.python.keras.models import model_from_json\n",
    "from tensorflow.python.keras import regularizers\n",
    "from tensorflow.python.keras.callbacks import Callback\n",
    "from tensorflow.python.keras.optimizers import Adam\n",
    "\n",
    "from copy import deepcopy\n",
    "from sklearn.metrics import f1_score\n",
    "from tensorboardX import SummaryWriter\n",
    "\n",
    "import math\n",
    "from time import time\n",
    "\n",
    "from sklearn.cluster import KMeans\n",
    "\n",
    "from tensorflow.python.keras.layers import Conv2D, Conv2DTranspose, Flatten, Reshape, Layer, InputSpec\n",
    "from tensorflow.python.keras.models import Sequential, Model\n",
    "from tensorflow.python.keras.utils.vis_utils import plot_model\n",
    "from datetime import datetime\n",
    "\n",
    "from tensorflow.python.keras.callbacks import TensorBoard"
   ]
  },
  {
   "cell_type": "code",
   "execution_count": 12,
   "metadata": {},
   "outputs": [],
   "source": [
    "def plain_ae(input_shape):\n",
    "    \n",
    "    input_layer = Input(shape=input_shape)\n",
    "    x = Dense(1000, activation='relu', name='enc1')(input_layer)\n",
    "    x = Dense(500, activation='relu', name='enc2')(x)\n",
    "    latent = Dense(10, activation='sigmoid', name='embedding')(x)\n",
    "    x = Dense(500, activation='relu', name='dec1')(latent)\n",
    "    x = Dense(1000, activation='relu', name='dec2')(x)\n",
    "    output_layer = Dense(input_shape[0], name='output')(x)\n",
    "    \n",
    "    model = Model(inputs=input_layer, outputs=output_layer)\n",
    "    \n",
    "    return model"
   ]
  },
  {
   "cell_type": "markdown",
   "metadata": {},
   "source": [
    "## Test DCEC"
   ]
  },
  {
   "cell_type": "code",
   "execution_count": 13,
   "metadata": {},
   "outputs": [],
   "source": [
    "import deep_clustering\n",
    "save_dir = 'models'\n",
    "\n",
    "dcec = deep_clustering.DCEC(input_shape=x_train.shape[1:], \n",
    "                            autoencoder_ctor=lambda input_shape: plain_ae(input_shape),\n",
    "                            n_clusters=10, \n",
    "                            pretrain_epochs=10,\n",
    "                            save_dir=save_dir, \n",
    "                            log_dir=logPath)\n",
    "plot_model(dcec._model, to_file=os.path.join(save_dir, 'dcec_model.png'), show_shapes=True)\n",
    "dcec.compile(loss_weights=[0.1, 1], optimizer='adam')"
   ]
  },
  {
   "cell_type": "code",
   "execution_count": 14,
   "metadata": {
    "scrolled": true
   },
   "outputs": [
    {
     "name": "stdout",
     "output_type": "stream",
     "text": [
      "__________________________________________________________________________________________________\n",
      "Layer (type)                    Output Shape         Param #     Connected to                     \n",
      "==================================================================================================\n",
      "input_1 (InputLayer)            (None, 2575)         0                                            \n",
      "__________________________________________________________________________________________________\n",
      "enc1 (Dense)                    (None, 1000)         2576000     input_1[0][0]                    \n",
      "__________________________________________________________________________________________________\n",
      "enc2 (Dense)                    (None, 500)          500500      enc1[0][0]                       \n",
      "__________________________________________________________________________________________________\n",
      "embedding (Dense)               (None, 10)           5010        enc2[0][0]                       \n",
      "__________________________________________________________________________________________________\n",
      "dec1 (Dense)                    (None, 500)          5500        embedding[0][0]                  \n",
      "__________________________________________________________________________________________________\n",
      "dec2 (Dense)                    (None, 1000)         501000      dec1[0][0]                       \n",
      "__________________________________________________________________________________________________\n",
      "clustering (ClusteringLayer)    (None, 10)           100         embedding[0][0]                  \n",
      "__________________________________________________________________________________________________\n",
      "output (Dense)                  (None, 2575)         2577575     dec2[0][0]                       \n",
      "==================================================================================================\n",
      "Total params: 6,165,685\n",
      "Trainable params: 6,165,685\n",
      "Non-trainable params: 0\n",
      "__________________________________________________________________________________________________\n"
     ]
    }
   ],
   "source": [
    "dcec._model.summary()"
   ]
  },
  {
   "cell_type": "code",
   "execution_count": 15,
   "metadata": {
    "scrolled": true
   },
   "outputs": [
    {
     "name": "stderr",
     "output_type": "stream",
     "text": [
      "2019-07-22 11:01:05,232 [MainThread  ] [INFO ]  Pretraining...\n",
      "2019-07-22 11:03:20,396 [MainThread  ] [INFO ]  Pretraining time: 135.05495166778564\n",
      "2019-07-22 11:03:20,836 [MainThread  ] [INFO ]  Pretrained weights are saved to models/pretrain_cae_model.h5\n",
      "2019-07-22 11:03:20,837 [MainThread  ] [INFO ]  Initializing cluster centers with k-means.\n",
      "2019-07-22 11:03:33,074 [MainThread  ] [INFO ]  Cluster centers initialized: 12.236179828643799\n",
      "2019-07-22 11:03:33,076 [MainThread  ] [INFO ]  Training model.\n",
      "2019-07-22 11:03:33,077 [MainThread  ] [INFO ]  Update interval 140\n",
      "2019-07-22 11:03:33,078 [MainThread  ] [INFO ]  Save interval 956.69921875\n",
      "2019-07-22 11:03:40,164 [MainThread  ] [INFO ]  Loss: [0, 0, 0]\n",
      "2019-07-22 11:03:42,718 [MainThread  ] [INFO ]  saving model to: models/dcec_model_0.h5\n",
      "2019-07-22 11:03:53,684 [MainThread  ] [INFO ]  Loss: [0.0025808907, 0.003088091, 0.0022720816]\n",
      "2019-07-22 11:03:53,685 [MainThread  ] [INFO ]  delta_label: 0.20211093644733888\n",
      "2019-07-22 11:04:04,592 [MainThread  ] [INFO ]  Loss: [0.003623133, 0.0056725717, 0.003055876]\n",
      "2019-07-22 11:04:04,594 [MainThread  ] [INFO ]  delta_label: 0.22052548843476308\n",
      "2019-07-22 11:04:15,534 [MainThread  ] [INFO ]  Loss: [0.005858629, 0.026724834, 0.0031861458]\n",
      "2019-07-22 11:04:15,535 [MainThread  ] [INFO ]  delta_label: 0.24955596839719904\n",
      "2019-07-22 11:04:26,380 [MainThread  ] [INFO ]  Loss: [0.0050536506, 0.021359729, 0.0029176776]\n",
      "2019-07-22 11:04:26,382 [MainThread  ] [INFO ]  delta_label: 0.1843700875814058\n",
      "2019-07-22 11:04:37,223 [MainThread  ] [INFO ]  Loss: [0.011152914, 0.079066366, 0.003246277]\n",
      "2019-07-22 11:04:37,224 [MainThread  ] [INFO ]  delta_label: 0.18069534328236328\n",
      "2019-07-22 11:04:48,008 [MainThread  ] [INFO ]  Loss: [0.015035035, 0.10561835, 0.0044732005]\n",
      "2019-07-22 11:04:48,010 [MainThread  ] [INFO ]  delta_label: 0.17532613355654003\n",
      "2019-07-22 11:04:58,921 [MainThread  ] [INFO ]  Loss: [0.01258472, 0.086646765, 0.003920043]\n",
      "2019-07-22 11:04:58,922 [MainThread  ] [INFO ]  delta_label: 0.14915378804891494\n",
      "2019-07-22 11:05:09,906 [MainThread  ] [INFO ]  Loss: [0.013125352, 0.084275946, 0.004697757]\n",
      "2019-07-22 11:05:09,908 [MainThread  ] [INFO ]  delta_label: 0.12026621480921952\n",
      "2019-07-22 11:05:21,051 [MainThread  ] [INFO ]  Loss: [0.029846838, 0.14166296, 0.015680542]\n",
      "2019-07-22 11:05:21,053 [MainThread  ] [INFO ]  delta_label: 0.1567074291080579\n",
      "2019-07-22 11:05:32,054 [MainThread  ] [INFO ]  Loss: [0.020388167, 0.14123066, 0.006265102]\n",
      "2019-07-22 11:05:32,056 [MainThread  ] [INFO ]  delta_label: 0.15460465875916135\n",
      "2019-07-22 11:05:43,195 [MainThread  ] [INFO ]  Loss: [0.02073432, 0.14628565, 0.0061057536]\n",
      "2019-07-22 11:05:43,197 [MainThread  ] [INFO ]  delta_label: 0.24285976767449932\n",
      "2019-07-22 11:05:54,273 [MainThread  ] [INFO ]  Loss: [0.021802958, 0.1600417, 0.005798787]\n",
      "2019-07-22 11:05:54,274 [MainThread  ] [INFO ]  delta_label: 0.13365861625461894\n",
      "2019-07-22 11:06:05,095 [MainThread  ] [INFO ]  Loss: [0.020376965, 0.16647199, 0.003729766]\n",
      "2019-07-22 11:06:05,096 [MainThread  ] [INFO ]  delta_label: 0.1405589694383766\n",
      "2019-07-22 11:06:15,883 [MainThread  ] [INFO ]  Loss: [0.01687659, 0.12787206, 0.004089382]\n",
      "2019-07-22 11:06:15,885 [MainThread  ] [INFO ]  delta_label: 0.04605679521466631\n",
      "2019-07-22 11:06:26,738 [MainThread  ] [INFO ]  Loss: [0.020476852, 0.15251139, 0.0052257124]\n",
      "2019-07-22 11:06:26,740 [MainThread  ] [INFO ]  delta_label: 0.08468244084682441\n",
      "2019-07-22 11:06:37,650 [MainThread  ] [INFO ]  Loss: [0.0201161, 0.15603101, 0.0045129987]\n",
      "2019-07-22 11:06:37,652 [MainThread  ] [INFO ]  delta_label: 0.04362738092807709\n",
      "2019-07-22 11:06:48,526 [MainThread  ] [INFO ]  Loss: [0.02376164, 0.19608392, 0.0041532484]\n",
      "2019-07-22 11:06:48,529 [MainThread  ] [INFO ]  delta_label: 0.044137762080721885\n",
      "2019-07-22 11:06:59,435 [MainThread  ] [INFO ]  Loss: [0.022531487, 0.17683342, 0.004848144]\n",
      "2019-07-22 11:06:59,436 [MainThread  ] [INFO ]  delta_label: 0.04066717024273728\n",
      "2019-07-22 11:07:10,622 [MainThread  ] [INFO ]  Loss: [0.024608476, 0.20830792, 0.0037776825]\n",
      "2019-07-22 11:07:10,624 [MainThread  ] [INFO ]  delta_label: 0.022068881040360942\n",
      "2019-07-22 11:07:21,711 [MainThread  ] [INFO ]  Loss: [0.019758783, 0.1612715, 0.0036316323]\n",
      "2019-07-22 11:07:21,713 [MainThread  ] [INFO ]  delta_label: 0.043933609619663964\n",
      "2019-07-22 11:07:32,761 [MainThread  ] [INFO ]  Loss: [0.022258814, 0.1557442, 0.006684395]\n",
      "2019-07-22 11:07:32,762 [MainThread  ] [INFO ]  delta_label: 0.02803013290325215\n",
      "2019-07-22 11:07:43,998 [MainThread  ] [INFO ]  Loss: [0.019542553, 0.16095111, 0.0034474418]\n",
      "2019-07-22 11:07:44,000 [MainThread  ] [INFO ]  delta_label: 0.13002470244778802\n",
      "2019-07-22 11:07:55,049 [MainThread  ] [INFO ]  Loss: [0.020629594, 0.17125037, 0.0035045561]\n",
      "2019-07-22 11:07:55,050 [MainThread  ] [INFO ]  delta_label: 0.1001571973950146\n",
      "2019-07-22 11:08:06,021 [MainThread  ] [INFO ]  Loss: [0.014096333, 0.116127655, 0.0024835672]\n",
      "2019-07-22 11:08:06,023 [MainThread  ] [INFO ]  delta_label: 0.08607067758201825\n",
      "2019-07-22 11:08:17,071 [MainThread  ] [INFO ]  Loss: [0.019486867, 0.16537239, 0.0029496276]\n",
      "2019-07-22 11:08:17,072 [MainThread  ] [INFO ]  delta_label: 0.14494824735112183\n",
      "2019-07-22 11:08:28,041 [MainThread  ] [INFO ]  Loss: [0.018292725, 0.14421065, 0.0038716593]\n",
      "2019-07-22 11:08:28,042 [MainThread  ] [INFO ]  delta_label: 0.07704713880325827\n",
      "2019-07-22 11:08:38,914 [MainThread  ] [INFO ]  Loss: [0.009782029, 0.07271894, 0.002510135]\n",
      "2019-07-22 11:08:38,916 [MainThread  ] [INFO ]  delta_label: 0.2585590919298532\n",
      "2019-07-22 11:08:49,735 [MainThread  ] [INFO ]  Loss: [0.021369504, 0.17318812, 0.00405069]\n",
      "2019-07-22 11:08:49,737 [MainThread  ] [INFO ]  delta_label: 0.11142641324541168\n",
      "2019-07-22 11:09:00,573 [MainThread  ] [INFO ]  Loss: [0.018874552, 0.13081102, 0.0057934495]\n",
      "2019-07-22 11:09:00,575 [MainThread  ] [INFO ]  delta_label: 0.1895759753383827\n",
      "2019-07-22 11:09:11,868 [MainThread  ] [INFO ]  Loss: [0.021761231, 0.18221569, 0.003539661]\n",
      "2019-07-22 11:09:11,870 [MainThread  ] [INFO ]  delta_label: 0.011779597003041872\n",
      "2019-07-22 11:09:23,161 [MainThread  ] [INFO ]  Loss: [0.018749958, 0.1402324, 0.004726718]\n",
      "2019-07-22 11:09:23,163 [MainThread  ] [INFO ]  delta_label: 0.26825633383010433\n",
      "2019-07-22 11:09:34,105 [MainThread  ] [INFO ]  Loss: [0.024278887, 0.20635214, 0.0036436704]\n",
      "2019-07-22 11:09:34,107 [MainThread  ] [INFO ]  delta_label: 0.027050201090174142\n",
      "2019-07-22 11:09:45,265 [MainThread  ] [INFO ]  Loss: [0.018966824, 0.15194824, 0.0037719994]\n",
      "2019-07-22 11:09:45,267 [MainThread  ] [INFO ]  delta_label: 0.2561909233815814\n",
      "2019-07-22 11:09:56,378 [MainThread  ] [INFO ]  Loss: [0.028773114, 0.25714564, 0.0030585492]\n",
      "2019-07-22 11:09:56,380 [MainThread  ] [INFO ]  delta_label: 0.06622705836718862\n",
      "2019-07-22 11:10:07,581 [MainThread  ] [INFO ]  Loss: [0.023544082, 0.1725334, 0.0062907436]\n",
      "2019-07-22 11:10:07,582 [MainThread  ] [INFO ]  delta_label: 0.19919155625421064\n",
      "2019-07-22 11:10:18,602 [MainThread  ] [INFO ]  Loss: [0.021507673, 0.16795127, 0.004712547]\n",
      "2019-07-22 11:10:18,604 [MainThread  ] [INFO ]  delta_label: 0.13071882081538494\n",
      "2019-07-22 11:10:29,557 [MainThread  ] [INFO ]  Loss: [0.021182852, 0.17432337, 0.0037505138]\n",
      "2019-07-22 11:10:29,558 [MainThread  ] [INFO ]  delta_label: 0.17493824388052998\n",
      "2019-07-22 11:10:40,347 [MainThread  ] [INFO ]  Loss: [0.019509777, 0.16053958, 0.0034558193]\n",
      "2019-07-22 11:10:40,350 [MainThread  ] [INFO ]  delta_label: 0.23212134822285282\n",
      "2019-07-22 11:10:51,127 [MainThread  ] [INFO ]  Loss: [0.019153105, 0.16159427, 0.0029936763]\n",
      "2019-07-22 11:10:51,129 [MainThread  ] [INFO ]  delta_label: 0.020170263152522305\n",
      "2019-07-22 11:11:02,012 [MainThread  ] [INFO ]  Loss: [0.018390262, 0.15141489, 0.0032487737]\n",
      "2019-07-22 11:11:02,013 [MainThread  ] [INFO ]  delta_label: 0.24882101953739053\n",
      "2019-07-22 11:11:12,982 [MainThread  ] [INFO ]  Loss: [0.022850618, 0.18457401, 0.0043932167]\n",
      "2019-07-22 11:11:12,985 [MainThread  ] [INFO ]  delta_label: 0.004042218728946777\n",
      "2019-07-22 11:11:23,824 [MainThread  ] [INFO ]  Loss: [0.01951468, 0.15931305, 0.0035833726]\n",
      "2019-07-22 11:11:23,826 [MainThread  ] [INFO ]  delta_label: 0.2638058101790417\n",
      "2019-07-22 11:11:34,976 [MainThread  ] [INFO ]  Loss: [0.011364328, 0.07896143, 0.003468185]\n"
     ]
    },
    {
     "name": "stderr",
     "output_type": "stream",
     "text": [
      "2019-07-22 11:11:34,977 [MainThread  ] [INFO ]  delta_label: 0.004960904803707408\n",
      "2019-07-22 11:11:45,880 [MainThread  ] [INFO ]  Loss: [0.020665912, 0.15796809, 0.004869103]\n",
      "2019-07-22 11:11:45,881 [MainThread  ] [INFO ]  delta_label: 0.26066186227874977\n",
      "2019-07-22 11:11:56,730 [MainThread  ] [INFO ]  Loss: [0.021177229, 0.17755537, 0.0034216922]\n",
      "2019-07-22 11:11:56,732 [MainThread  ] [INFO ]  delta_label: 0.008553988118326767\n",
      "2019-07-22 11:12:07,597 [MainThread  ] [INFO ]  Loss: [0.027743267, 0.21937516, 0.0058057494]\n",
      "2019-07-22 11:12:07,599 [MainThread  ] [INFO ]  delta_label: 0.21284935589898535\n",
      "2019-07-22 11:12:18,641 [MainThread  ] [INFO ]  Loss: [0.020873565, 0.17287165, 0.0035863996]\n",
      "2019-07-22 11:12:18,642 [MainThread  ] [INFO ]  delta_label: 0.22230161484596697\n",
      "2019-07-22 11:12:29,714 [MainThread  ] [INFO ]  Loss: [0.01810345, 0.1493603, 0.0031674209]\n",
      "2019-07-22 11:12:29,716 [MainThread  ] [INFO ]  delta_label: 0.08970459138884919\n",
      "2019-07-22 11:12:40,730 [MainThread  ] [INFO ]  Loss: [0.016886182, 0.1426661, 0.002619571]\n",
      "2019-07-22 11:12:40,732 [MainThread  ] [INFO ]  delta_label: 0.19186248290223137\n",
      "2019-07-22 11:12:51,685 [MainThread  ] [INFO ]  Loss: [0.01736369, 0.14521186, 0.0028425036]\n",
      "2019-07-22 11:12:51,686 [MainThread  ] [INFO ]  delta_label: 0.040238450074515646\n",
      "2019-07-22 11:13:02,802 [MainThread  ] [INFO ]  Loss: [0.020501256, 0.1723563, 0.0032656258]\n",
      "2019-07-22 11:13:02,804 [MainThread  ] [INFO ]  delta_label: 0.25145458628503764\n",
      "2019-07-22 11:13:13,725 [MainThread  ] [INFO ]  Loss: [0.028158732, 0.24732988, 0.0034257425]\n",
      "2019-07-22 11:13:13,727 [MainThread  ] [INFO ]  delta_label: 0.024906600249066\n",
      "2019-07-22 11:13:24,545 [MainThread  ] [INFO ]  Loss: [0.018723223, 0.15319559, 0.0034036655]\n",
      "2019-07-22 11:13:24,547 [MainThread  ] [INFO ]  delta_label: 0.2619888532756262\n",
      "2019-07-22 11:13:35,347 [MainThread  ] [INFO ]  Loss: [0.022301003, 0.18780172, 0.003520831]\n",
      "2019-07-22 11:13:35,348 [MainThread  ] [INFO ]  delta_label: 0.0035114223301961904\n",
      "2019-07-22 11:13:46,629 [MainThread  ] [INFO ]  Loss: [0.019003961, 0.1479984, 0.0042041214]\n",
      "2019-07-22 11:13:46,632 [MainThread  ] [INFO ]  delta_label: 0.2513116795622971\n",
      "2019-07-22 11:13:57,558 [MainThread  ] [INFO ]  Loss: [0.022728864, 0.18694963, 0.0040339]\n",
      "2019-07-22 11:13:57,559 [MainThread  ] [INFO ]  delta_label: 0.016434273115162403\n",
      "2019-07-22 11:14:08,496 [MainThread  ] [INFO ]  Loss: [0.023131903, 0.14438923, 0.00869298]\n",
      "2019-07-22 11:14:08,497 [MainThread  ] [INFO ]  delta_label: 0.25223036563705775\n",
      "2019-07-22 11:14:19,357 [MainThread  ] [INFO ]  Loss: [0.023258701, 0.19817275, 0.0034414255]\n",
      "2019-07-22 11:14:19,358 [MainThread  ] [INFO ]  delta_label: 0.013065757507706756\n",
      "2019-07-22 11:14:30,211 [MainThread  ] [INFO ]  Loss: [0.02203845, 0.17516413, 0.0045220368]\n",
      "2019-07-22 11:14:30,212 [MainThread  ] [INFO ]  delta_label: 0.24030786191127534\n",
      "2019-07-22 11:14:41,071 [MainThread  ] [INFO ]  Loss: [0.023029614, 0.17848976, 0.0051806387]\n",
      "2019-07-22 11:14:41,072 [MainThread  ] [INFO ]  delta_label: 0.10277034889655595\n",
      "2019-07-22 11:14:52,326 [MainThread  ] [INFO ]  Loss: [0.020444307, 0.17671295, 0.002773013]\n",
      "2019-07-22 11:14:52,327 [MainThread  ] [INFO ]  delta_label: 0.2022334279239736\n",
      "2019-07-22 11:15:03,384 [MainThread  ] [INFO ]  Loss: [0.019600281, 0.15633738, 0.003966544]\n",
      "2019-07-22 11:15:03,386 [MainThread  ] [INFO ]  delta_label: 0.23026356082722577\n",
      "2019-07-22 11:15:14,443 [MainThread  ] [INFO ]  Loss: [0.01988575, 0.14987531, 0.0048982194]\n",
      "2019-07-22 11:15:14,445 [MainThread  ] [INFO ]  delta_label: 0.0036134985607251496\n",
      "2019-07-22 11:15:25,486 [MainThread  ] [INFO ]  Loss: [0.019301517, 0.1592342, 0.0033780965]\n",
      "2019-07-22 11:15:25,487 [MainThread  ] [INFO ]  delta_label: 0.2550885000918686\n",
      "2019-07-22 11:15:36,494 [MainThread  ] [INFO ]  Loss: [0.024571557, 0.20606025, 0.003965533]\n",
      "2019-07-22 11:15:36,495 [MainThread  ] [INFO ]  delta_label: 0.011350876834820244\n",
      "2019-07-22 11:15:47,341 [MainThread  ] [INFO ]  Loss: [0.020158742, 0.16912037, 0.0032467037]\n",
      "2019-07-22 11:15:47,342 [MainThread  ] [INFO ]  delta_label: 0.26349958148745484\n",
      "2019-07-22 11:15:58,300 [MainThread  ] [INFO ]  Loss: [0.026985966, 0.23401722, 0.0035842443]\n",
      "2019-07-22 11:15:58,302 [MainThread  ] [INFO ]  delta_label: 0.003225608884715105\n",
      "2019-07-22 11:16:09,283 [MainThread  ] [INFO ]  Loss: [0.019149575, 0.15963778, 0.0031857968]\n",
      "2019-07-22 11:16:09,285 [MainThread  ] [INFO ]  delta_label: 0.2177285997182696\n",
      "2019-07-22 11:16:20,082 [MainThread  ] [INFO ]  Loss: [0.018522782, 0.15294768, 0.0032280139]\n",
      "2019-07-22 11:16:20,083 [MainThread  ] [INFO ]  delta_label: 0.07106547169426128\n",
      "2019-07-22 11:16:31,259 [MainThread  ] [INFO ]  Loss: [0.02001931, 0.16371255, 0.0036480536]\n",
      "2019-07-22 11:16:31,261 [MainThread  ] [INFO ]  delta_label: 0.2374293122103587\n",
      "2019-07-22 11:16:42,084 [MainThread  ] [INFO ]  Loss: [0.021010054, 0.17707169, 0.003302885]\n",
      "2019-07-22 11:16:42,085 [MainThread  ] [INFO ]  delta_label: 0.050262335912459426\n",
      "2019-07-22 11:16:53,032 [MainThread  ] [INFO ]  Loss: [0.013913332, 0.11656292, 0.0022570395]\n",
      "2019-07-22 11:16:53,033 [MainThread  ] [INFO ]  delta_label: 0.21182859359369577\n",
      "2019-07-22 11:17:03,999 [MainThread  ] [INFO ]  Loss: [0.01954644, 0.16626826, 0.0029196148]\n",
      "2019-07-22 11:17:04,001 [MainThread  ] [INFO ]  delta_label: 0.1551762856501235\n",
      "2019-07-22 11:17:14,918 [MainThread  ] [INFO ]  Loss: [0.031550147, 0.27628145, 0.003922003]\n",
      "2019-07-22 11:17:14,921 [MainThread  ] [INFO ]  delta_label: 0.10742502500867648\n",
      "2019-07-22 11:17:26,181 [MainThread  ] [INFO ]  Loss: [0.009458182, 0.07525866, 0.0019323162]\n",
      "2019-07-22 11:17:26,183 [MainThread  ] [INFO ]  delta_label: 0.21764693873384644\n",
      "2019-07-22 11:17:37,442 [MainThread  ] [INFO ]  Loss: [0.023153938, 0.19334467, 0.0038194717]\n",
      "2019-07-22 11:17:37,444 [MainThread  ] [INFO ]  delta_label: 0.17320294796153768\n",
      "2019-07-22 11:17:48,539 [MainThread  ] [INFO ]  Loss: [0.017572112, 0.145277, 0.003044413]\n",
      "2019-07-22 11:17:48,540 [MainThread  ] [INFO ]  delta_label: 0.0685135659310373\n",
      "2019-07-22 11:17:59,423 [MainThread  ] [INFO ]  Loss: [0.022169583, 0.18484783, 0.0036847985]\n",
      "2019-07-22 11:17:59,425 [MainThread  ] [INFO ]  delta_label: 0.00418512545168732\n",
      "2019-07-22 11:18:10,409 [MainThread  ] [INFO ]  Loss: [0.018647186, 0.15537672, 0.0031095138]\n",
      "2019-07-22 11:18:10,411 [MainThread  ] [INFO ]  delta_label: 0.10003470591837985\n",
      "2019-07-22 11:18:21,618 [MainThread  ] [INFO ]  Loss: [0.023876142, 0.20402125, 0.0034740176]\n",
      "2019-07-22 11:18:21,620 [MainThread  ] [INFO ]  delta_label: 0.09923851132025396\n",
      "2019-07-22 11:18:32,455 [MainThread  ] [INFO ]  Loss: [0.018996138, 0.16089554, 0.0029065823]\n",
      "2019-07-22 11:18:32,457 [MainThread  ] [INFO ]  delta_label: 0.06336892391237776\n",
      "2019-07-22 11:18:43,277 [MainThread  ] [INFO ]  Loss: [0.02775618, 0.25025004, 0.002731177]\n",
      "2019-07-22 11:18:43,278 [MainThread  ] [INFO ]  delta_label: 0.001674050180674928\n",
      "2019-07-22 11:18:54,067 [MainThread  ] [INFO ]  Loss: [0.023374628, 0.18718596, 0.0046560327]\n",
      "2019-07-22 11:18:54,068 [MainThread  ] [INFO ]  delta_label: 0.022130126778678316\n",
      "2019-07-22 11:19:05,172 [MainThread  ] [INFO ]  Loss: [0.020805478, 0.1767531, 0.0031301687]\n",
      "2019-07-22 11:19:05,173 [MainThread  ] [INFO ]  delta_label: 0.021885143825408817\n",
      "2019-07-22 11:19:16,131 [MainThread  ] [INFO ]  Loss: [0.0221762, 0.18673511, 0.0035026886]\n",
      "2019-07-22 11:19:16,132 [MainThread  ] [INFO ]  delta_label: 0.003940142498417818\n",
      "2019-07-22 11:19:27,100 [MainThread  ] [INFO ]  Loss: [0.020518906, 0.16531494, 0.003987411]\n",
      "2019-07-22 11:19:27,101 [MainThread  ] [INFO ]  delta_label: 0.001347406242982259\n",
      "2019-07-22 11:19:37,884 [MainThread  ] [INFO ]  Loss: [0.018572185, 0.15869725, 0.0027024602]\n",
      "2019-07-22 11:19:37,885 [MainThread  ] [INFO ]  delta_label: 0.029275462915705448\n",
      "2019-07-22 11:19:48,682 [MainThread  ] [INFO ]  Loss: [0.019201238, 0.15508752, 0.0036924863]\n",
      "2019-07-22 11:19:48,684 [MainThread  ] [INFO ]  delta_label: 0.02952044586897495\n",
      "2019-07-22 11:19:59,590 [MainThread  ] [INFO ]  Loss: [0.024797203, 0.1849191, 0.0063052922]\n",
      "2019-07-22 11:19:59,592 [MainThread  ] [INFO ]  delta_label: 0.000734948859808505\n",
      "2019-07-22 11:19:59,592 [MainThread  ] [INFO ]  delta_label 0.000734948859808505 < 0.001\n"
     ]
    },
    {
     "name": "stderr",
     "output_type": "stream",
     "text": [
      "2019-07-22 11:19:59,593 [MainThread  ] [INFO ]  Reached tolerance threshold. Stopping training.\n",
      "2019-07-22 11:19:59,594 [MainThread  ] [INFO ]  Done. 986.5170562267303\n",
      "2019-07-22 11:19:59,595 [MainThread  ] [INFO ]  Saving model to: models/dcec_model_final.h5\n",
      "2019-07-22 11:19:59,659 [MainThread  ] [INFO ]  Pretrain time: 135.60578036308289\n",
      "2019-07-22 11:19:59,660 [MainThread  ] [INFO ]  Clustering time: 998.8207538127899\n",
      "2019-07-22 11:19:59,661 [MainThread  ] [INFO ]  Total time: 1134.4265341758728\n"
     ]
    }
   ],
   "source": [
    "dcec.fit(x_train)"
   ]
  },
  {
   "cell_type": "code",
   "execution_count": 18,
   "metadata": {},
   "outputs": [],
   "source": [
    "y_pred = dcec._y_pred"
   ]
  },
  {
   "cell_type": "code",
   "execution_count": 41,
   "metadata": {},
   "outputs": [],
   "source": [
    "def show_cluster_sample(number):\n",
    "    return features[y_pred == number][['docid', 'subject', 'relation', 'object']].sample(frac=1).iloc[:10] "
   ]
  },
  {
   "cell_type": "code",
   "execution_count": 43,
   "metadata": {
    "scrolled": false
   },
   "outputs": [
    {
     "data": {
      "text/html": [
       "<div>\n",
       "<style scoped>\n",
       "    .dataframe tbody tr th:only-of-type {\n",
       "        vertical-align: middle;\n",
       "    }\n",
       "\n",
       "    .dataframe tbody tr th {\n",
       "        vertical-align: top;\n",
       "    }\n",
       "\n",
       "    .dataframe thead th {\n",
       "        text-align: right;\n",
       "    }\n",
       "</style>\n",
       "<table border=\"1\" class=\"dataframe\">\n",
       "  <thead>\n",
       "    <tr style=\"text-align: right;\">\n",
       "      <th></th>\n",
       "      <th>docid</th>\n",
       "      <th>subject</th>\n",
       "      <th>relation</th>\n",
       "      <th>object</th>\n",
       "    </tr>\n",
       "  </thead>\n",
       "  <tbody>\n",
       "    <tr>\n",
       "      <th>15291</th>\n",
       "      <td>42721893</td>\n",
       "      <td>REA</td>\n",
       "      <td>was founded as</td>\n",
       "      <td>publisher</td>\n",
       "    </tr>\n",
       "    <tr>\n",
       "      <th>23536</th>\n",
       "      <td>29418677</td>\n",
       "      <td>Candoxatril</td>\n",
       "      <td>is orally active prodrug as</td>\n",
       "      <td>neutral endopeptidase 24.11 complexed</td>\n",
       "    </tr>\n",
       "    <tr>\n",
       "      <th>46462</th>\n",
       "      <td>22886826</td>\n",
       "      <td>Ethernet Alliance</td>\n",
       "      <td>was preceded by</td>\n",
       "      <td>Ethernet Alliance</td>\n",
       "    </tr>\n",
       "    <tr>\n",
       "      <th>39670</th>\n",
       "      <td>56788647</td>\n",
       "      <td>Aoife McLysaght</td>\n",
       "      <td>is Professor in</td>\n",
       "      <td>Evolution Laboratory of Smurfit Institute of G...</td>\n",
       "    </tr>\n",
       "    <tr>\n",
       "      <th>25642</th>\n",
       "      <td>61001</td>\n",
       "      <td>Microsoft</td>\n",
       "      <td>was evolving OLE into</td>\n",
       "      <td>Component Object Model</td>\n",
       "    </tr>\n",
       "    <tr>\n",
       "      <th>22418</th>\n",
       "      <td>18684775</td>\n",
       "      <td>Japanese television adaptation</td>\n",
       "      <td>aired on</td>\n",
       "      <td>TBS</td>\n",
       "    </tr>\n",
       "    <tr>\n",
       "      <th>47725</th>\n",
       "      <td>48915162</td>\n",
       "      <td>Social Credit System</td>\n",
       "      <td>originated from</td>\n",
       "      <td>strategy first implemented in select locations...</td>\n",
       "    </tr>\n",
       "    <tr>\n",
       "      <th>39259</th>\n",
       "      <td>17589963</td>\n",
       "      <td>French chemist</td>\n",
       "      <td>discovered</td>\n",
       "      <td>first known occurring methyl ester</td>\n",
       "    </tr>\n",
       "    <tr>\n",
       "      <th>32744</th>\n",
       "      <td>925356</td>\n",
       "      <td>22,200 assisted living facilities</td>\n",
       "      <td>were in</td>\n",
       "      <td>U.S.</td>\n",
       "    </tr>\n",
       "    <tr>\n",
       "      <th>7805</th>\n",
       "      <td>31573781</td>\n",
       "      <td>MG 5</td>\n",
       "      <td>is compact car</td>\n",
       "      <td>has produced from 2012</td>\n",
       "    </tr>\n",
       "  </tbody>\n",
       "</table>\n",
       "</div>"
      ],
      "text/plain": [
       "          docid                            subject  \\\n",
       "15291  42721893                                REA   \n",
       "23536  29418677                        Candoxatril   \n",
       "46462  22886826                  Ethernet Alliance   \n",
       "39670  56788647                    Aoife McLysaght   \n",
       "25642     61001                          Microsoft   \n",
       "22418  18684775     Japanese television adaptation   \n",
       "47725  48915162               Social Credit System   \n",
       "39259  17589963                     French chemist   \n",
       "32744    925356  22,200 assisted living facilities   \n",
       "7805   31573781                               MG 5   \n",
       "\n",
       "                          relation  \\\n",
       "15291               was founded as   \n",
       "23536  is orally active prodrug as   \n",
       "46462              was preceded by   \n",
       "39670              is Professor in   \n",
       "25642        was evolving OLE into   \n",
       "22418                     aired on   \n",
       "47725              originated from   \n",
       "39259                   discovered   \n",
       "32744                      were in   \n",
       "7805                is compact car   \n",
       "\n",
       "                                                  object  \n",
       "15291                                          publisher  \n",
       "23536              neutral endopeptidase 24.11 complexed  \n",
       "46462                                  Ethernet Alliance  \n",
       "39670  Evolution Laboratory of Smurfit Institute of G...  \n",
       "25642                             Component Object Model  \n",
       "22418                                                TBS  \n",
       "47725  strategy first implemented in select locations...  \n",
       "39259                 first known occurring methyl ester  \n",
       "32744                                               U.S.  \n",
       "7805                              has produced from 2012  "
      ]
     },
     "execution_count": 43,
     "metadata": {},
     "output_type": "execute_result"
    }
   ],
   "source": [
    "show_cluster_sample(9)"
   ]
  },
  {
   "cell_type": "markdown",
   "metadata": {},
   "source": [
    "## Clustering of internal representations generated by autoencoder"
   ]
  },
  {
   "cell_type": "code",
   "execution_count": null,
   "metadata": {
    "scrolled": true
   },
   "outputs": [],
   "source": [
    "pae = plain_ae(x_train.shape[1:])\n",
    "pae.compile(optimizer='adam', loss='mse')\n",
    "pae.fit(x_train, x_train, batch_size=256, epochs=200, verbose=0)\n",
    "hidden = pae.get_layer(name='embedding').output\n",
    "encoder = Model(inputs=pae.input, outputs=hidden)\n",
    "embeddings = encoder.predict(x_train)\n",
    "cluzeriser = KMeans(10, n_jobs=6)\n",
    "clusters = cluzeriser.fit_predict(embeddings)"
   ]
  },
  {
   "cell_type": "code",
   "execution_count": 47,
   "metadata": {},
   "outputs": [],
   "source": [
    "def show_cluster_sample(number):\n",
    "    return features[clusters == number][['docid', 'subject', 'relation', 'object']].sample(frac=1).iloc[:10] "
   ]
  },
  {
   "cell_type": "code",
   "execution_count": 53,
   "metadata": {},
   "outputs": [
    {
     "data": {
      "text/html": [
       "<div>\n",
       "<style scoped>\n",
       "    .dataframe tbody tr th:only-of-type {\n",
       "        vertical-align: middle;\n",
       "    }\n",
       "\n",
       "    .dataframe tbody tr th {\n",
       "        vertical-align: top;\n",
       "    }\n",
       "\n",
       "    .dataframe thead th {\n",
       "        text-align: right;\n",
       "    }\n",
       "</style>\n",
       "<table border=\"1\" class=\"dataframe\">\n",
       "  <thead>\n",
       "    <tr style=\"text-align: right;\">\n",
       "      <th></th>\n",
       "      <th>docid</th>\n",
       "      <th>subject</th>\n",
       "      <th>relation</th>\n",
       "      <th>object</th>\n",
       "    </tr>\n",
       "  </thead>\n",
       "  <tbody>\n",
       "    <tr>\n",
       "      <th>41326</th>\n",
       "      <td>311537</td>\n",
       "      <td>Ultra Games Ultra Software Corporation</td>\n",
       "      <td>was</td>\n",
       "      <td>shell corporation created in effort get around...</td>\n",
       "    </tr>\n",
       "    <tr>\n",
       "      <th>42228</th>\n",
       "      <td>17339</td>\n",
       "      <td>Kendall Square Research</td>\n",
       "      <td>was</td>\n",
       "      <td>supercomputer company headquartered in Kendall...</td>\n",
       "    </tr>\n",
       "    <tr>\n",
       "      <th>32079</th>\n",
       "      <td>52744500</td>\n",
       "      <td>Tetrahedron Computer Methodology</td>\n",
       "      <td>was lived journal</td>\n",
       "      <td>published by Pergamon Press to experiment with...</td>\n",
       "    </tr>\n",
       "    <tr>\n",
       "      <th>20721</th>\n",
       "      <td>6271783</td>\n",
       "      <td>Elxsi</td>\n",
       "      <td>was</td>\n",
       "      <td>minicomputer company established in 1970s</td>\n",
       "    </tr>\n",
       "    <tr>\n",
       "      <th>15091</th>\n",
       "      <td>10973748</td>\n",
       "      <td>NRW</td>\n",
       "      <td>was</td>\n",
       "      <td>unreleased computer workstation designed durin...</td>\n",
       "    </tr>\n",
       "    <tr>\n",
       "      <th>44213</th>\n",
       "      <td>53999565</td>\n",
       "      <td>first experimental demonstration</td>\n",
       "      <td>was shown by</td>\n",
       "      <td>Fercher et al.</td>\n",
       "    </tr>\n",
       "    <tr>\n",
       "      <th>11822</th>\n",
       "      <td>6013482</td>\n",
       "      <td>Western Australian Directory</td>\n",
       "      <td>was published by</td>\n",
       "      <td>H. Pierssene</td>\n",
       "    </tr>\n",
       "    <tr>\n",
       "      <th>33480</th>\n",
       "      <td>19712538</td>\n",
       "      <td>third generation</td>\n",
       "      <td>was</td>\n",
       "      <td>introduced by Pontiac alongside its corporate ...</td>\n",
       "    </tr>\n",
       "    <tr>\n",
       "      <th>37732</th>\n",
       "      <td>1753031</td>\n",
       "      <td>first generation</td>\n",
       "      <td>was</td>\n",
       "      <td>launched in 1998 by General Motors ' South Kor...</td>\n",
       "    </tr>\n",
       "    <tr>\n",
       "      <th>24881</th>\n",
       "      <td>3991133</td>\n",
       "      <td>Audi Roadjet</td>\n",
       "      <td>was officially unveiled at</td>\n",
       "      <td>2006 North American International Auto Show</td>\n",
       "    </tr>\n",
       "  </tbody>\n",
       "</table>\n",
       "</div>"
      ],
      "text/plain": [
       "          docid                                 subject  \\\n",
       "41326    311537  Ultra Games Ultra Software Corporation   \n",
       "42228     17339                 Kendall Square Research   \n",
       "32079  52744500        Tetrahedron Computer Methodology   \n",
       "20721   6271783                                   Elxsi   \n",
       "15091  10973748                                     NRW   \n",
       "44213  53999565        first experimental demonstration   \n",
       "11822   6013482            Western Australian Directory   \n",
       "33480  19712538                        third generation   \n",
       "37732   1753031                        first generation   \n",
       "24881   3991133                            Audi Roadjet   \n",
       "\n",
       "                         relation  \\\n",
       "41326                         was   \n",
       "42228                         was   \n",
       "32079           was lived journal   \n",
       "20721                         was   \n",
       "15091                         was   \n",
       "44213                was shown by   \n",
       "11822            was published by   \n",
       "33480                         was   \n",
       "37732                         was   \n",
       "24881  was officially unveiled at   \n",
       "\n",
       "                                                  object  \n",
       "41326  shell corporation created in effort get around...  \n",
       "42228  supercomputer company headquartered in Kendall...  \n",
       "32079  published by Pergamon Press to experiment with...  \n",
       "20721          minicomputer company established in 1970s  \n",
       "15091  unreleased computer workstation designed durin...  \n",
       "44213                                     Fercher et al.  \n",
       "11822                                       H. Pierssene  \n",
       "33480  introduced by Pontiac alongside its corporate ...  \n",
       "37732  launched in 1998 by General Motors ' South Kor...  \n",
       "24881        2006 North American International Auto Show  "
      ]
     },
     "execution_count": 53,
     "metadata": {},
     "output_type": "execute_result"
    }
   ],
   "source": [
    "show_cluster_sample(1)"
   ]
  }
 ],
 "metadata": {
  "kernelspec": {
   "display_name": "Python 3",
   "language": "python",
   "name": "python3"
  },
  "language_info": {
   "codemirror_mode": {
    "name": "ipython",
    "version": 3
   },
   "file_extension": ".py",
   "mimetype": "text/x-python",
   "name": "python",
   "nbconvert_exporter": "python",
   "pygments_lexer": "ipython3",
   "version": "3.6.7"
  }
 },
 "nbformat": 4,
 "nbformat_minor": 2
}
